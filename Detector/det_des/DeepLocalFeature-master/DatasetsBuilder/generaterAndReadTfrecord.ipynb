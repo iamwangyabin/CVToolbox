{
 "cells": [
  {
   "cell_type": "code",
   "execution_count": 1,
   "metadata": {},
   "outputs": [],
   "source": [
    "import os\n",
    "import tensorflow as tf \n",
    "import numpy as np"
   ]
  },
  {
   "cell_type": "markdown",
   "metadata": {},
   "source": [
    "# 生成tfrecords"
   ]
  },
  {
   "cell_type": "code",
   "execution_count": 2,
   "metadata": {},
   "outputs": [],
   "source": [
    "import generate_tfrecord\n",
    "root_dir='../dataset/scan'\n",
    "in_dir='../dataset/scan/color/'\n",
    "num = generate_tfrecord.write(root_dir,'train.tfrecord')\n",
    "num"
   ]
  },
  {
   "cell_type": "markdown",
   "metadata": {},
   "source": [
    "# 读出数据集"
   ]
  },
  {
   "cell_type": "code",
   "execution_count": 3,
   "metadata": {},
   "outputs": [],
   "source": [
    "import sfmdataset"
   ]
  },
  {
   "cell_type": "code",
   "execution_count": 4,
   "metadata": {
    "scrolled": true
   },
   "outputs": [
    {
     "name": "stdout",
     "output_type": "stream",
     "text": [
      "['../dataset/scan/train.tfrecord']\n"
     ]
    }
   ],
   "source": [
    "tr_loader = sfmdataset.SfMDataset(out_size=(362, 362), \n",
    "                   warp_aug_mode='random', flip_pair=False, max_degree=180, max_scale=1.414,\n",
    "                   num_threads=2)\n",
    "tr_dataset = tr_loader.get_dataset('../dataset', 'config.sfm_img_dir', \n",
    "                    'scan/', phase='train',\n",
    "                    batch_size=6, shuffle=True)"
   ]
  },
  {
   "cell_type": "code",
   "execution_count": 50,
   "metadata": {
    "scrolled": false
   },
   "outputs": [
    {
     "name": "stdout",
     "output_type": "stream",
     "text": [
      "[b'../dataset/scan/color/511.jpg' b'../dataset/scan/color/1232.jpg'\n",
      " b'../dataset/scan/color/1564.jpg' b'../dataset/scan/color/635.jpg'\n",
      " b'../dataset/scan/color/1120.jpg' b'../dataset/scan/color/1143.jpg']\n",
      "0\n",
      "1\n",
      "2\n",
      "3\n",
      "4\n",
      "5\n"
     ]
    },
    {
     "name": "stderr",
     "output_type": "stream",
     "text": [
      "/home/wang/.conda/envs/py3-tf/lib/python3.5/site-packages/ipykernel_launcher.py:8: RuntimeWarning: invalid value encountered in subtract\n",
      "  \n"
     ]
    }
   ],
   "source": [
    "iterator = tr_dataset.make_one_shot_iterator()\n",
    "next_element = iterator.get_next()\n",
    " \n",
    "with tf.Session() as sess: \n",
    "    rgb1_filename, rgb2_filename, c1Tw, c2Tw = sess.run(next_element)\n",
    "    print(rgb1_filename)"
   ]
  }
 ],
 "metadata": {
  "kernelspec": {
   "display_name": "Python 3",
   "language": "python",
   "name": "python3"
  },
  "language_info": {
   "codemirror_mode": {
    "name": "ipython",
    "version": 3
   },
   "file_extension": ".py",
   "mimetype": "text/x-python",
   "name": "python",
   "nbconvert_exporter": "python",
   "pygments_lexer": "ipython3",
   "version": "3.5.6"
  }
 },
 "nbformat": 4,
 "nbformat_minor": 2
}
