{
 "cells": [
  {
   "cell_type": "code",
   "execution_count": 5,
   "metadata": {},
   "outputs": [],
   "source": [
    "import os\n",
    "import tensorflow as tf \n",
    "import numpy as np"
   ]
  },
  {
   "cell_type": "markdown",
   "metadata": {},
   "source": [
    "# 生成tfrecords"
   ]
  },
  {
   "cell_type": "code",
   "execution_count": 7,
   "metadata": {},
   "outputs": [
    {
     "data": {
      "text/plain": [
       "(968, 1296, 3)"
      ]
     },
     "execution_count": 7,
     "metadata": {},
     "output_type": "execute_result"
    }
   ],
   "source": [
    "root_dir='../dataset/scan'\n",
    "in_dir='../dataset/scan/color/'\n",
    "img_paths = [x.path for x in os.scandir(in_dir) if x.name.endswith('.jpg') or x.name.endswith('.png')]\n",
    "num_img=len(img_paths)\n",
    "from imageio import imread, imsave\n",
    "photo = imread(img_paths[0])\n",
    "photo.shape"
   ]
  },
  {
   "cell_type": "code",
   "execution_count": 8,
   "metadata": {},
   "outputs": [],
   "source": [
    "# 这些函数封装的真难用\n",
    "def int64_feature(value):\n",
    "    return tf.train.Feature(int64_list=tf.train.Int64List(value=[value]))\n",
    "\n",
    "def bytes_feature(value):\n",
    "    return tf.train.Feature(bytes_list=tf.train.BytesList(value=[value]))\n",
    "\n",
    "def float_feature(value):\n",
    "    return tf.train.Feature(float_list=tf.train.FloatList(value=[value]))\n",
    "\n",
    "def write(input_file, output_file):\n",
    "    root_dir = input_file\n",
    "    img_paths = [x.path for x in os.scandir(in_dir) if x.name.endswith('.jpg') or x.name.endswith('.png')]\n",
    "    num_img=len(img_paths)\n",
    "    file_names = [(root_dir+'/color/{}.jpg'.format(f)).encode() for f in range(num_img)]\n",
    "    writer = tf.python_io.TFRecordWriter(output_file) #定义writer，传入目标文件路径\n",
    "    \n",
    "    for i in range(num_img-15):\n",
    "        rgb1_filename = (root_dir+\"/color/{}.jpg\".format(i)).encode()\n",
    "        rgb2_filename = (root_dir+'/color/'+\"{}.jpg\".format(i+10)).encode()\n",
    "        depth1_filename = (root_dir+'/depth/'+\"{}.png\".format(i)).encode()\n",
    "        depth2_filename = (root_dir+'/depth/'+\"{}.png\".format(i+10)).encode()\n",
    "        shape1 = (968, 1296)\n",
    "        shape2 = (968, 1296)\n",
    "#             bbox1\n",
    "#             bbox2\n",
    "        c1Tw = np.loadtxt(root_dir+'/pose/'+\"{}.txt\".format(i),dtype=np.float32).ravel()\n",
    "        c2Tw = np.loadtxt(root_dir+'/pose/'+\"{}.txt\".format(i+10),dtype=np.float32).ravel()\n",
    "        K1 = np.loadtxt(root_dir+'/intrinsic/'+\"intrinsic_color.txt\",dtype=np.float32).ravel()\n",
    "        K2 = np.loadtxt(root_dir+'/intrinsic/'+\"intrinsic_color.txt\",dtype=np.float32).ravel()\n",
    "        tf_example = tf.train.Example(\n",
    "            features=tf.train.Features(feature={\n",
    "                'rgb1_filename': bytes_feature(rgb1_filename),\n",
    "                'rgb2_filename': bytes_feature(rgb2_filename),\n",
    "                'depth1_filename': bytes_feature(depth1_filename),\n",
    "                'depth2_filename': bytes_feature(depth2_filename),\n",
    "                'shape1': tf.train.Feature(int64_list=tf.train.Int64List(value=list(shape1))),\n",
    "                'shape2': tf.train.Feature(int64_list=tf.train.Int64List(value=list(shape2))),\n",
    "    #             'bbox1': int64_feature(), # x1,x2,y1,y2\n",
    "    #             'bbox2': int64_feature(),\n",
    "                'c1Tw': tf.train.Feature(float_list=tf.train.FloatList(value=c1Tw)),\n",
    "                'c2Tw': tf.train.Feature(float_list=tf.train.FloatList(value=c2Tw)),\n",
    "                'K1': tf.train.Feature(float_list=tf.train.FloatList(value=K1)),\n",
    "                'K2': tf.train.Feature(float_list=tf.train.FloatList(value=K2)),\n",
    "        }))\n",
    "\n",
    "        #example序列化，并写入文件\n",
    "        writer.write(tf_example.SerializeToString())\n",
    "    writer.close()"
   ]
  },
  {
   "cell_type": "code",
   "execution_count": 13,
   "metadata": {},
   "outputs": [],
   "source": [
    "write('../dataset/scan', '../dataset/scan/train.tfrecord')"
   ]
  },
  {
   "cell_type": "markdown",
   "metadata": {},
   "source": [
    "# 读出数据集"
   ]
  },
  {
   "cell_type": "code",
   "execution_count": 1,
   "metadata": {},
   "outputs": [],
   "source": [
    "import sfmdataset"
   ]
  },
  {
   "cell_type": "code",
   "execution_count": 2,
   "metadata": {},
   "outputs": [],
   "source": [
    "tr_loader = sfmdataset.SfMDataset(out_size=(362, 362), \n",
    "                   warp_aug_mode='random', flip_pair=True, max_degree=180, max_scale=1.414,\n",
    "                   num_threads=2)\n",
    "tr_dataset = tr_loader.get_dataset('../dataset', 'config.sfm_img_dir', \n",
    "                    'scan', phase='train',\n",
    "                    batch_size=6, shuffle=True)"
   ]
  },
  {
   "cell_type": "code",
   "execution_count": 24,
   "metadata": {},
   "outputs": [],
   "source": [
    "iterator = tr_dataset.make_one_shot_iterator()\n",
    "next_element = iterator.get_next()\n",
    " \n",
    "with tf.Session() as sess: \n",
    "    photos1, photos2, depths1, depths2, valid_masks1, valid_masks2, c2Tc1s, c1Tc2s, c1Tws, c2Tws, Ks1, Ks2, theta_params, use_augs = sess.run(next_element)"
   ]
  },
  {
   "cell_type": "code",
   "execution_count": 29,
   "metadata": {},
   "outputs": [
    {
     "data": {
      "text/plain": [
       "array([[-0.614696, -0.270029,  0.741103,  4.323374],\n",
       "       [-0.788673,  0.196135, -0.582688,  2.645469],\n",
       "       [ 0.011987, -0.942664, -0.333528,  1.420135],\n",
       "       [ 0.      ,  0.      ,  0.      ,  1.      ]], dtype=float32)"
      ]
     },
     "execution_count": 29,
     "metadata": {},
     "output_type": "execute_result"
    }
   ],
   "source": [
    "c1Tws[0]"
   ]
  },
  {
   "cell_type": "markdown",
   "metadata": {},
   "source": [
    "# 下面是随便写的测试代码"
   ]
  },
  {
   "cell_type": "code",
   "execution_count": 5,
   "metadata": {},
   "outputs": [],
   "source": [
    "def read_and_decode(file_name):\n",
    "    filename_queue = tf.train.string_input_producer([file_name])\n",
    "    reader = tf.TFRecordReader()\n",
    "\n",
    "    _, serialized_example = reader.read(filename_queue)\n",
    "    features = tf.parse_single_example(serialized_example,\n",
    "                features={\n",
    "                    'rgb1_filename': tf.FixedLenFeature([], tf.string),\n",
    "                    'rgb2_filename': tf.FixedLenFeature([], tf.string),\n",
    "                    'depth1_filename': tf.FixedLenFeature([], tf.string),\n",
    "                    'depth2_filename': tf.FixedLenFeature([], tf.string),\n",
    "                    'shape1': tf.FixedLenFeature([3], tf.int64),\n",
    "                    'shape2': tf.FixedLenFeature([3], tf.int64),\n",
    "    #                 'bbox1': tf.FixedLenFeature([4], tf.int64), # x1,x2,y1,y2\n",
    "    #                 'bbox2': tf.FixedLenFeature([4], tf.int64),\n",
    "                    'c1Tw': tf.FixedLenFeature([16], tf.float32),\n",
    "                    'c2Tw': tf.FixedLenFeature([16], tf.float32),\n",
    "                    'K1': tf.FixedLenFeature([16], tf.float32),\n",
    "                    'K2': tf.FixedLenFeature([16], tf.float32),\n",
    "                                                            })\n",
    "    return features"
   ]
  },
  {
   "cell_type": "code",
   "execution_count": 9,
   "metadata": {},
   "outputs": [
    {
     "name": "stdout",
     "output_type": "stream",
     "text": [
      "b'../dataset/scan/color/10.jpg'\n",
      "INFO:tensorflow:Error reported to Coordinator: <class 'tensorflow.python.framework.errors_impl.CancelledError'>, Session has been closed.\n"
     ]
    }
   ],
   "source": [
    "with tf.Session() as sess: #开始一个会话\n",
    "    init_op = tf.global_variables_initializer()\n",
    "    sess.run(init_op)\n",
    "    coord=tf.train.Coordinator()\n",
    "    threads= tf.train.start_queue_runners(coord=coord)\n",
    "    x= sess.run(features['rgb2_filename'])#在会话中取出image和label\n",
    "    print(x)"
   ]
  },
  {
   "cell_type": "code",
   "execution_count": 6,
   "metadata": {},
   "outputs": [],
   "source": [
    "features=read_and_decode('re.tfrecord')"
   ]
  }
 ],
 "metadata": {
  "kernelspec": {
   "display_name": "Python 3",
   "language": "python",
   "name": "python3"
  },
  "language_info": {
   "codemirror_mode": {
    "name": "ipython",
    "version": 3
   },
   "file_extension": ".py",
   "mimetype": "text/x-python",
   "name": "python",
   "nbconvert_exporter": "python",
   "pygments_lexer": "ipython3",
   "version": "3.5.6"
  }
 },
 "nbformat": 4,
 "nbformat_minor": 2
}
