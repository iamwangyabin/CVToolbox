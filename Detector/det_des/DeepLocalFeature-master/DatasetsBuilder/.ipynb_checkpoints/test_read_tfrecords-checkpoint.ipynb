{
 "cells": [
  {
   "cell_type": "code",
   "execution_count": 1,
   "metadata": {},
   "outputs": [],
   "source": [
    "import os\n",
    "import tensorflow as tf \n",
    "import numpy as np"
   ]
  },
  {
   "cell_type": "code",
   "execution_count": 14,
   "metadata": {},
   "outputs": [],
   "source": [
    "def get_delta_pose(C1TW,C2TW):\n",
    "    C1TW_R = C1TW[:3,:3]\n",
    "    C2TW_R = C2TW[:3,:3]\n",
    "    C1TW_t = np.expand_dims(C1TW[:3,3], axis=1)\n",
    "    C2TW_t = np.expand_dims(C2TW[:3,3], axis=1)\n",
    "    ones=np.array([0.,0.,0.,1.])\n",
    "    R=(np.linalg.inv(C2TW_R)).dot(C1TW_R)\n",
    "    t=(np.linalg.inv(C2TW_R)).dot(C1TW_t-C2TW_t)\n",
    "    T=np.hstack((R,t))\n",
    "    T=np.vstack((T,ones))\n",
    "    T=np.linalg.inv(T)\n",
    "    T_=np.linalg.inv(T)\n",
    "    return T,T_"
   ]
  },
  {
   "cell_type": "code",
   "execution_count": 45,
   "metadata": {},
   "outputs": [],
   "source": [
    "def parser(serialized):\n",
    "    with tf.name_scope('parse_example'):\n",
    "        flip_pair = False\n",
    "        example = tf.parse_single_example(serialized, features={\n",
    "                'rgb1_filename': tf.FixedLenFeature([], tf.string),\n",
    "                'rgb2_filename': tf.FixedLenFeature([], tf.string),\n",
    "                'depth1_filename': tf.FixedLenFeature([], tf.string),\n",
    "                'depth2_filename': tf.FixedLenFeature([], tf.string),\n",
    "                'shape1': tf.FixedLenFeature([3], tf.int64),\n",
    "                'shape2': tf.FixedLenFeature([3], tf.int64),\n",
    "#                 'bbox1': tf.FixedLenFeature([4], tf.int64), # x1,x2,y1,y2\n",
    "#                 'bbox2': tf.FixedLenFeature([4], tf.int64),\n",
    "                'c1Tw': tf.FixedLenFeature([16], tf.float32),\n",
    "                'c2Tw': tf.FixedLenFeature([16], tf.float32),\n",
    "                'K1': tf.FixedLenFeature([16], tf.float32),\n",
    "                'K2': tf.FixedLenFeature([16], tf.float32),\n",
    "        })\n",
    "\n",
    "    # Flip images 训练过程中ｉｊ分支会反转一下\n",
    "    if flip_pair:\n",
    "        # pair is always idx1 < idx2 so that it will be effective to switch pairs randomly\n",
    "        flip_example = {\n",
    "            'rgb1_filename': example['rgb2_filename'],\n",
    "            'rgb2_filename': example['rgb1_filename'],\n",
    "            'depth1_filename': example['depth2_filename'],\n",
    "            'depth2_filename': example['depth1_filename'],\n",
    "            'shape1': example['shape2'],\n",
    "            'shape2': example['shape1'],\n",
    "            'c1Tw': example['c2Tw'],\n",
    "            'c2Tw': example['c1Tw'],\n",
    "            'K1': example['K2'],\n",
    "            'K2': example['K1'],\n",
    "        }\n",
    "        is_flip = tf.less_equal(tf.random_uniform([]), 0.5)\n",
    "        example = tf.cond(is_flip, lambda: flip_example, lambda: example)            \n",
    "\n",
    "    shape1 = example['shape1']\n",
    "    shape2 = example['shape2']\n",
    "    c1Tw = tf.reshape(example['c1Tw'], [4,4])\n",
    "    c2Tw = tf.reshape(example['c2Tw'], [4,4])\n",
    "    K1 = tf.reshape(example['K1'], [4,4])\n",
    "    K2 = tf.reshape(example['K2'], [4,4])\n",
    "    rgb1_filename = example['rgb1_filename']\n",
    "    rgb2_filename = example['rgb2_filename']\n",
    "    depth1_filename = example['depth1_filename']\n",
    "    depth2_filename = example['depth2_filename']\n",
    "\n",
    "    rgb1 = _decode_rgb(rgb1_filename, shape1)\n",
    "    rgb2 = _decode_rgb(rgb2_filename, shape2)\n",
    "    depth1, valid_mask1 = _decode_depth(depth1_filename, shape1)\n",
    "    depth2, valid_mask2 = _decode_depth(depth2_filename, shape2)\n",
    "\n",
    "    dv1 = tf.concat([depth1, valid_mask1], axis=-1)\n",
    "    dv2 = tf.concat([depth2, valid_mask2], axis=-1)\n",
    "\n",
    "    depth1 = tf.slice(dv1, [0,0,0], [-1,-1,1])        \n",
    "    valid_mask1 = tf.slice(dv1, [0,0,1], [-1,-1,1])        \n",
    "    depth2 = tf.slice(dv2, [0,0,0], [-1,-1,1])        \n",
    "    valid_mask2 = tf.slice(dv2, [0,0,1], [-1,-1,1])        \n",
    "\n",
    "    # Pose\n",
    "#     c1Tc2, c2Tc1 = get_delta_pose(c1Tw, c2Tw)\n",
    "\n",
    "    return rgb1_filename, rgb1, rgb2, depth1, depth2, valid_mask1, valid_mask2, c1Tw, c2Tw, K1, K2\n",
    "\n",
    "def _decode_rgb(filename, shape):\n",
    "    rgb = tf.read_file(filename)\n",
    "    rgb = tf.image.decode_jpeg(rgb, 1)\n",
    "    rgb = tf.cast(rgb, tf.float32) / 255.0\n",
    "    return rgb\n",
    "\n",
    "def _decode_depth(filename, shape):\n",
    "    depth = tf.read_file(filename)\n",
    "    depth = tf.image.decode_png(depth, 1, dtype=tf.uint16) # force to load as grayscale\n",
    "    depth = tf.scalar_mul(0.001, tf.cast(depth, tf.float32))\n",
    "    is_zero = tf.equal(depth, tf.constant(0, dtype=tf.float32))\n",
    "    valid_mask = tf.cast(tf.logical_not(is_zero), tf.float32)\n",
    "    far_depth = tf.scalar_mul(1000, tf.ones_like(depth, dtype=tf.float32))\n",
    "    depth = tf.where(is_zero, far_depth, depth)\n",
    "    return depth, valid_mask\n"
   ]
  },
  {
   "cell_type": "code",
   "execution_count": 16,
   "metadata": {},
   "outputs": [],
   "source": [
    "render_path=[''] # 存放ｔｆｒｅｃｏｒｄｓ的目录\n",
    "pose_tfrecords=[]"
   ]
  },
  {
   "cell_type": "code",
   "execution_count": 47,
   "metadata": {},
   "outputs": [],
   "source": [
    "dataset = tf.data.TFRecordDataset(['re.tfrecord'])\n",
    "dataset = dataset.shuffle(buffer_size=1600, seed=1)\n",
    "dataset = dataset.repeat(count=1)\n",
    "dataset = dataset.map(parser, num_parallel_calls=1)\n",
    "dataset = dataset.batch(2)"
   ]
  },
  {
   "cell_type": "code",
   "execution_count": 48,
   "metadata": {},
   "outputs": [],
   "source": [
    "iterator = dataset.make_one_shot_iterator()"
   ]
  },
  {
   "cell_type": "code",
   "execution_count": 49,
   "metadata": {
    "scrolled": true
   },
   "outputs": [],
   "source": [
    "a,photos1, photos2, depths1, depths2, valid_masks1, valid_masks2,c1Tws, c2Tws, Ks1, Ks2 = iterator.get_next()"
   ]
  },
  {
   "cell_type": "code",
   "execution_count": 52,
   "metadata": {},
   "outputs": [],
   "source": [
    "with tf.Session() as sess: #开始一个会话\n",
    "    x= sess.run(a[0])#在会话中取出image和label"
   ]
  },
  {
   "cell_type": "code",
   "execution_count": 53,
   "metadata": {},
   "outputs": [
    {
     "data": {
      "text/plain": [
       "b'../dataset/scan/color/1320.jpg'"
      ]
     },
     "execution_count": 53,
     "metadata": {},
     "output_type": "execute_result"
    }
   ],
   "source": [
    "x"
   ]
  },
  {
   "cell_type": "code",
   "execution_count": 54,
   "metadata": {},
   "outputs": [],
   "source": [
    "rgb = tf.read_file(a[0])"
   ]
  },
  {
   "cell_type": "code",
   "execution_count": 58,
   "metadata": {},
   "outputs": [],
   "source": [
    "rgb = tf.image.decode_jpeg(rgb, 1)"
   ]
  },
  {
   "cell_type": "code",
   "execution_count": 71,
   "metadata": {},
   "outputs": [],
   "source": [
    "from PIL import Image\n",
    "img = Image.open(x).convert('RGB')"
   ]
  },
  {
   "cell_type": "code",
   "execution_count": 75,
   "metadata": {},
   "outputs": [
    {
     "data": {
      "text/plain": [
       "1296"
      ]
     },
     "execution_count": 75,
     "metadata": {},
     "output_type": "execute_result"
    }
   ],
   "source": [
    "img.width"
   ]
  },
  {
   "cell_type": "code",
   "execution_count": 67,
   "metadata": {},
   "outputs": [],
   "source": [
    "with tf.Session() as sess: \n",
    "    y = sess.run(rgb)"
   ]
  }
 ],
 "metadata": {
  "kernelspec": {
   "display_name": "Python 3",
   "language": "python",
   "name": "python3"
  },
  "language_info": {
   "codemirror_mode": {
    "name": "ipython",
    "version": 3
   },
   "file_extension": ".py",
   "mimetype": "text/x-python",
   "name": "python",
   "nbconvert_exporter": "python",
   "pygments_lexer": "ipython3",
   "version": "3.5.6"
  }
 },
 "nbformat": 4,
 "nbformat_minor": 2
}
