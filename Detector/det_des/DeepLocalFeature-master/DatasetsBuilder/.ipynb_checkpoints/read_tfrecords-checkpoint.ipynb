{
 "cells": [
  {
   "cell_type": "code",
   "execution_count": 1,
   "metadata": {},
   "outputs": [],
   "source": [
    "import os\n",
    "import tensorflow as tf \n",
    "import numpy as np"
   ]
  },
  {
   "cell_type": "code",
   "execution_count": 2,
   "metadata": {},
   "outputs": [],
   "source": [
    "def get_delta_pose(C1TW,C2TW):\n",
    "    C1TW_R = C1TW[:3,:3]\n",
    "    C2TW_R = C2TW[:3,:3]\n",
    "    C1TW_t = np.expand_dims(C1TW[:3,3], axis=1)\n",
    "    C2TW_t = np.expand_dims(C2TW[:3,3], axis=1)\n",
    "    ones=np.array([0.,0.,0.,1.])\n",
    "    R=(np.linalg.inv(C2TW_R)).dot(C1TW_R)\n",
    "    t=(np.linalg.inv(C2TW_R)).dot(C1TW_t-C2TW_t)\n",
    "    T=np.hstack((R,t))\n",
    "    T=np.vstack((T,ones))\n",
    "    T=np.linalg.inv(T)\n",
    "    T_=np.linalg.inv(T)\n",
    "    return T,T_"
   ]
  },
  {
   "cell_type": "code",
   "execution_count": 3,
   "metadata": {},
   "outputs": [],
   "source": [
    "def parser(serialized):\n",
    "    with tf.name_scope('parse_example'):\n",
    "        flip_pair = False\n",
    "        example = tf.parse_single_example(serialized, features={\n",
    "                'rgb1_filename': tf.FixedLenFeature([], tf.string),\n",
    "                'rgb2_filename': tf.FixedLenFeature([], tf.string),\n",
    "                'depth1_filename': tf.FixedLenFeature([], tf.string),\n",
    "                'depth2_filename': tf.FixedLenFeature([], tf.string),\n",
    "                'shape1': tf.FixedLenFeature([3], tf.int64),\n",
    "                'shape2': tf.FixedLenFeature([3], tf.int64),\n",
    "#                 'bbox1': tf.FixedLenFeature([4], tf.int64), # x1,x2,y1,y2\n",
    "#                 'bbox2': tf.FixedLenFeature([4], tf.int64),\n",
    "                'c1Tw': tf.FixedLenFeature([16], tf.float32),\n",
    "                'c2Tw': tf.FixedLenFeature([16], tf.float32),\n",
    "                'K1': tf.FixedLenFeature([16], tf.float32),\n",
    "                'K2': tf.FixedLenFeature([16], tf.float32),\n",
    "        })\n",
    "\n",
    "    # Flip images 训练过程中ｉｊ分支会反转一下\n",
    "    if flip_pair:\n",
    "        # pair is always idx1 < idx2 so that it will be effective to switch pairs randomly\n",
    "        flip_example = {\n",
    "            'rgb1_filename': example['rgb2_filename'],\n",
    "            'rgb2_filename': example['rgb1_filename'],\n",
    "            'depth1_filename': example['depth2_filename'],\n",
    "            'depth2_filename': example['depth1_filename'],\n",
    "            'shape1': example['shape2'],\n",
    "            'shape2': example['shape1'],\n",
    "            'c1Tw': example['c2Tw'],\n",
    "            'c2Tw': example['c1Tw'],\n",
    "            'K1': example['K2'],\n",
    "            'K2': example['K1'],\n",
    "        }\n",
    "        is_flip = tf.less_equal(tf.random_uniform([]), 0.5)\n",
    "        example = tf.cond(is_flip, lambda: flip_example, lambda: example)            \n",
    "\n",
    "    shape1 = example['shape1']\n",
    "    shape2 = example['shape2']\n",
    "    c1Tw = tf.reshape(example['c1Tw'], [4,4])\n",
    "    c2Tw = tf.reshape(example['c2Tw'], [4,4])\n",
    "    K1 = tf.reshape(example['K1'], [4,4])\n",
    "    K2 = tf.reshape(example['K2'], [4,4])\n",
    "    rgb1_filename = example['rgb1_filename']\n",
    "    rgb2_filename = example['rgb2_filename']\n",
    "    depth1_filename = example['depth1_filename']\n",
    "    depth2_filename = example['depth2_filename']\n",
    "\n",
    "    rgb1 = _decode_rgb(rgb1_filename, shape1)\n",
    "    rgb2 = _decode_rgb(rgb2_filename, shape2)\n",
    "    depth1, valid_mask1 = _decode_depth(depth1_filename, shape1)\n",
    "    depth2, valid_mask2 = _decode_depth(depth2_filename, shape2)\n",
    "\n",
    "    dv1 = tf.concat([depth1, valid_mask1], axis=-1)\n",
    "    dv2 = tf.concat([depth2, valid_mask2], axis=-1)\n",
    "\n",
    "    depth1 = tf.slice(dv1, [0,0,0], [-1,-1,1])        \n",
    "    valid_mask1 = tf.slice(dv1, [0,0,1], [-1,-1,1])        \n",
    "    depth2 = tf.slice(dv2, [0,0,0], [-1,-1,1])        \n",
    "    valid_mask2 = tf.slice(dv2, [0,0,1], [-1,-1,1])        \n",
    "\n",
    "    # Pose\n",
    "#     c1Tc2, c2Tc1 = get_delta_pose(c1Tw, c2Tw)\n",
    "\n",
    "    return rgb1_filename, rgb1, rgb2, depth1, depth2, valid_mask1, valid_mask2, c1Tw, c2Tw, K1, K2\n",
    "\n",
    "def _decode_rgb(filename, shape):\n",
    "    rgb = tf.read_file(filename)\n",
    "    rgb = tf.image.decode_jpeg(rgb, 1)\n",
    "    rgb = tf.cast(rgb, tf.float32) / 255.0\n",
    "    return rgb\n",
    "\n",
    "def _decode_depth(filename, shape):\n",
    "    depth = tf.read_file(filename)\n",
    "    depth = tf.image.decode_png(depth, 1, dtype=tf.uint16) # force to load as grayscale\n",
    "    depth = tf.scalar_mul(0.001, tf.cast(depth, tf.float32))\n",
    "    is_zero = tf.equal(depth, tf.constant(0, dtype=tf.float32))\n",
    "    valid_mask = tf.cast(tf.logical_not(is_zero), tf.float32)\n",
    "    far_depth = tf.scalar_mul(1000, tf.ones_like(depth, dtype=tf.float32))\n",
    "    depth = tf.where(is_zero, far_depth, depth)\n",
    "    return depth, valid_mask\n"
   ]
  },
  {
   "cell_type": "code",
   "execution_count": 9,
   "metadata": {},
   "outputs": [],
   "source": [
    "dataset = tf.data.TFRecordDataset(['train.tfrecord'])\n",
    "dataset = dataset.shuffle(buffer_size=1600, seed=1)\n",
    "dataset = dataset.repeat(count=1)\n",
    "dataset = dataset.map(parser, num_parallel_calls=1)\n",
    "dataset = dataset.batch(2)"
   ]
  },
  {
   "cell_type": "code",
   "execution_count": 10,
   "metadata": {},
   "outputs": [],
   "source": [
    "iterator = dataset.make_one_shot_iterator()"
   ]
  },
  {
   "cell_type": "code",
   "execution_count": 7,
   "metadata": {
    "scrolled": true
   },
   "outputs": [],
   "source": [
    "a,photos1, photos2, depths1, depths2, valid_masks1, valid_masks2,c1Tws, c2Tws, Ks1, Ks2 = iterator.get_next()"
   ]
  },
  {
   "cell_type": "code",
   "execution_count": 8,
   "metadata": {},
   "outputs": [
    {
     "ename": "NotFoundError",
     "evalue": "re.tfrecord; No such file or directory\n\t [[Node: IteratorGetNext = IteratorGetNext[output_shapes=[[?], [?,?,?,1], [?,?,?,1], [?,?,?,1], [?,?,?,1], [?,?,?,1], [?,?,?,1], [?,4,4], [?,4,4], [?,4,4], [?,4,4]], output_types=[DT_STRING, DT_FLOAT, DT_FLOAT, DT_FLOAT, DT_FLOAT, DT_FLOAT, DT_FLOAT, DT_FLOAT, DT_FLOAT, DT_FLOAT, DT_FLOAT], _device=\"/job:localhost/replica:0/task:0/device:CPU:0\"](OneShotIterator)]]\n\nCaused by op 'IteratorGetNext', defined at:\n  File \"/home/wang/.conda/envs/py3-tf/lib/python3.5/runpy.py\", line 193, in _run_module_as_main\n    \"__main__\", mod_spec)\n  File \"/home/wang/.conda/envs/py3-tf/lib/python3.5/runpy.py\", line 85, in _run_code\n    exec(code, run_globals)\n  File \"/home/wang/.conda/envs/py3-tf/lib/python3.5/site-packages/ipykernel_launcher.py\", line 16, in <module>\n    app.launch_new_instance()\n  File \"/home/wang/.conda/envs/py3-tf/lib/python3.5/site-packages/traitlets/config/application.py\", line 658, in launch_instance\n    app.start()\n  File \"/home/wang/.conda/envs/py3-tf/lib/python3.5/site-packages/ipykernel/kernelapp.py\", line 505, in start\n    self.io_loop.start()\n  File \"/home/wang/.conda/envs/py3-tf/lib/python3.5/site-packages/tornado/platform/asyncio.py\", line 148, in start\n    self.asyncio_loop.run_forever()\n  File \"/home/wang/.conda/envs/py3-tf/lib/python3.5/asyncio/base_events.py\", line 421, in run_forever\n    self._run_once()\n  File \"/home/wang/.conda/envs/py3-tf/lib/python3.5/asyncio/base_events.py\", line 1425, in _run_once\n    handle._run()\n  File \"/home/wang/.conda/envs/py3-tf/lib/python3.5/asyncio/events.py\", line 127, in _run\n    self._callback(*self._args)\n  File \"/home/wang/.conda/envs/py3-tf/lib/python3.5/site-packages/tornado/ioloop.py\", line 690, in <lambda>\n    lambda f: self._run_callback(functools.partial(callback, future))\n  File \"/home/wang/.conda/envs/py3-tf/lib/python3.5/site-packages/tornado/ioloop.py\", line 743, in _run_callback\n    ret = callback()\n  File \"/home/wang/.conda/envs/py3-tf/lib/python3.5/site-packages/tornado/gen.py\", line 781, in inner\n    self.run()\n  File \"/home/wang/.conda/envs/py3-tf/lib/python3.5/site-packages/tornado/gen.py\", line 742, in run\n    yielded = self.gen.send(value)\n  File \"/home/wang/.conda/envs/py3-tf/lib/python3.5/site-packages/ipykernel/kernelbase.py\", line 357, in process_one\n    yield gen.maybe_future(dispatch(*args))\n  File \"/home/wang/.conda/envs/py3-tf/lib/python3.5/site-packages/tornado/gen.py\", line 209, in wrapper\n    yielded = next(result)\n  File \"/home/wang/.conda/envs/py3-tf/lib/python3.5/site-packages/ipykernel/kernelbase.py\", line 267, in dispatch_shell\n    yield gen.maybe_future(handler(stream, idents, msg))\n  File \"/home/wang/.conda/envs/py3-tf/lib/python3.5/site-packages/tornado/gen.py\", line 209, in wrapper\n    yielded = next(result)\n  File \"/home/wang/.conda/envs/py3-tf/lib/python3.5/site-packages/ipykernel/kernelbase.py\", line 534, in execute_request\n    user_expressions, allow_stdin,\n  File \"/home/wang/.conda/envs/py3-tf/lib/python3.5/site-packages/tornado/gen.py\", line 209, in wrapper\n    yielded = next(result)\n  File \"/home/wang/.conda/envs/py3-tf/lib/python3.5/site-packages/ipykernel/ipkernel.py\", line 294, in do_execute\n    res = shell.run_cell(code, store_history=store_history, silent=silent)\n  File \"/home/wang/.conda/envs/py3-tf/lib/python3.5/site-packages/ipykernel/zmqshell.py\", line 536, in run_cell\n    return super(ZMQInteractiveShell, self).run_cell(*args, **kwargs)\n  File \"/home/wang/.conda/envs/py3-tf/lib/python3.5/site-packages/IPython/core/interactiveshell.py\", line 2848, in run_cell\n    raw_cell, store_history, silent, shell_futures)\n  File \"/home/wang/.conda/envs/py3-tf/lib/python3.5/site-packages/IPython/core/interactiveshell.py\", line 2874, in _run_cell\n    return runner(coro)\n  File \"/home/wang/.conda/envs/py3-tf/lib/python3.5/site-packages/IPython/core/async_helpers.py\", line 67, in _pseudo_sync_runner\n    coro.send(None)\n  File \"/home/wang/.conda/envs/py3-tf/lib/python3.5/site-packages/IPython/core/interactiveshell.py\", line 3049, in run_cell_async\n    interactivity=interactivity, compiler=compiler, result=result)\n  File \"/home/wang/.conda/envs/py3-tf/lib/python3.5/site-packages/IPython/core/interactiveshell.py\", line 3214, in run_ast_nodes\n    if (yield from self.run_code(code, result)):\n  File \"/home/wang/.conda/envs/py3-tf/lib/python3.5/site-packages/IPython/core/interactiveshell.py\", line 3296, in run_code\n    exec(code_obj, self.user_global_ns, self.user_ns)\n  File \"<ipython-input-7-3651dd3ac3ce>\", line 1, in <module>\n    a,photos1, photos2, depths1, depths2, valid_masks1, valid_masks2,c1Tws, c2Tws, Ks1, Ks2 = iterator.get_next()\n  File \"/home/wang/.conda/envs/py3-tf/lib/python3.5/site-packages/tensorflow/python/data/ops/iterator_ops.py\", line 324, in get_next\n    name=name)), self._output_types,\n  File \"/home/wang/.conda/envs/py3-tf/lib/python3.5/site-packages/tensorflow/python/ops/gen_dataset_ops.py\", line 839, in iterator_get_next\n    output_shapes=output_shapes, name=name)\n  File \"/home/wang/.conda/envs/py3-tf/lib/python3.5/site-packages/tensorflow/python/framework/op_def_library.py\", line 787, in _apply_op_helper\n    op_def=op_def)\n  File \"/home/wang/.conda/envs/py3-tf/lib/python3.5/site-packages/tensorflow/python/framework/ops.py\", line 3160, in create_op\n    op_def=op_def)\n  File \"/home/wang/.conda/envs/py3-tf/lib/python3.5/site-packages/tensorflow/python/framework/ops.py\", line 1625, in __init__\n    self._traceback = self._graph._extract_stack()  # pylint: disable=protected-access\n\nNotFoundError (see above for traceback): re.tfrecord; No such file or directory\n\t [[Node: IteratorGetNext = IteratorGetNext[output_shapes=[[?], [?,?,?,1], [?,?,?,1], [?,?,?,1], [?,?,?,1], [?,?,?,1], [?,?,?,1], [?,4,4], [?,4,4], [?,4,4], [?,4,4]], output_types=[DT_STRING, DT_FLOAT, DT_FLOAT, DT_FLOAT, DT_FLOAT, DT_FLOAT, DT_FLOAT, DT_FLOAT, DT_FLOAT, DT_FLOAT, DT_FLOAT], _device=\"/job:localhost/replica:0/task:0/device:CPU:0\"](OneShotIterator)]]\n",
     "output_type": "error",
     "traceback": [
      "\u001b[0;31m---------------------------------------------------------------------------\u001b[0m",
      "\u001b[0;31mNotFoundError\u001b[0m                             Traceback (most recent call last)",
      "\u001b[0;32m~/.conda/envs/py3-tf/lib/python3.5/site-packages/tensorflow/python/client/session.py\u001b[0m in \u001b[0;36m_do_call\u001b[0;34m(self, fn, *args)\u001b[0m\n\u001b[1;32m   1349\u001b[0m     \u001b[0;32mtry\u001b[0m\u001b[0;34m:\u001b[0m\u001b[0;34m\u001b[0m\u001b[0m\n\u001b[0;32m-> 1350\u001b[0;31m       \u001b[0;32mreturn\u001b[0m \u001b[0mfn\u001b[0m\u001b[0;34m(\u001b[0m\u001b[0;34m*\u001b[0m\u001b[0margs\u001b[0m\u001b[0;34m)\u001b[0m\u001b[0;34m\u001b[0m\u001b[0m\n\u001b[0m\u001b[1;32m   1351\u001b[0m     \u001b[0;32mexcept\u001b[0m \u001b[0merrors\u001b[0m\u001b[0;34m.\u001b[0m\u001b[0mOpError\u001b[0m \u001b[0;32mas\u001b[0m \u001b[0me\u001b[0m\u001b[0;34m:\u001b[0m\u001b[0;34m\u001b[0m\u001b[0m\n",
      "\u001b[0;32m~/.conda/envs/py3-tf/lib/python3.5/site-packages/tensorflow/python/client/session.py\u001b[0m in \u001b[0;36m_run_fn\u001b[0;34m(session, feed_dict, fetch_list, target_list, options, run_metadata)\u001b[0m\n\u001b[1;32m   1328\u001b[0m                                    \u001b[0mfeed_dict\u001b[0m\u001b[0;34m,\u001b[0m \u001b[0mfetch_list\u001b[0m\u001b[0;34m,\u001b[0m \u001b[0mtarget_list\u001b[0m\u001b[0;34m,\u001b[0m\u001b[0;34m\u001b[0m\u001b[0m\n\u001b[0;32m-> 1329\u001b[0;31m                                    status, run_metadata)\n\u001b[0m\u001b[1;32m   1330\u001b[0m \u001b[0;34m\u001b[0m\u001b[0m\n",
      "\u001b[0;32m~/.conda/envs/py3-tf/lib/python3.5/site-packages/tensorflow/python/framework/errors_impl.py\u001b[0m in \u001b[0;36m__exit__\u001b[0;34m(self, type_arg, value_arg, traceback_arg)\u001b[0m\n\u001b[1;32m    472\u001b[0m             \u001b[0mcompat\u001b[0m\u001b[0;34m.\u001b[0m\u001b[0mas_text\u001b[0m\u001b[0;34m(\u001b[0m\u001b[0mc_api\u001b[0m\u001b[0;34m.\u001b[0m\u001b[0mTF_Message\u001b[0m\u001b[0;34m(\u001b[0m\u001b[0mself\u001b[0m\u001b[0;34m.\u001b[0m\u001b[0mstatus\u001b[0m\u001b[0;34m.\u001b[0m\u001b[0mstatus\u001b[0m\u001b[0;34m)\u001b[0m\u001b[0;34m)\u001b[0m\u001b[0;34m,\u001b[0m\u001b[0;34m\u001b[0m\u001b[0m\n\u001b[0;32m--> 473\u001b[0;31m             c_api.TF_GetCode(self.status.status))\n\u001b[0m\u001b[1;32m    474\u001b[0m     \u001b[0;31m# Delete the underlying status object from memory otherwise it stays alive\u001b[0m\u001b[0;34m\u001b[0m\u001b[0;34m\u001b[0m\u001b[0m\n",
      "\u001b[0;31mNotFoundError\u001b[0m: re.tfrecord; No such file or directory\n\t [[Node: IteratorGetNext = IteratorGetNext[output_shapes=[[?], [?,?,?,1], [?,?,?,1], [?,?,?,1], [?,?,?,1], [?,?,?,1], [?,?,?,1], [?,4,4], [?,4,4], [?,4,4], [?,4,4]], output_types=[DT_STRING, DT_FLOAT, DT_FLOAT, DT_FLOAT, DT_FLOAT, DT_FLOAT, DT_FLOAT, DT_FLOAT, DT_FLOAT, DT_FLOAT, DT_FLOAT], _device=\"/job:localhost/replica:0/task:0/device:CPU:0\"](OneShotIterator)]]",
      "\nDuring handling of the above exception, another exception occurred:\n",
      "\u001b[0;31mNotFoundError\u001b[0m                             Traceback (most recent call last)",
      "\u001b[0;32m<ipython-input-8-1314f1c07eb3>\u001b[0m in \u001b[0;36m<module>\u001b[0;34m\u001b[0m\n\u001b[1;32m      1\u001b[0m \u001b[0;32mwith\u001b[0m \u001b[0mtf\u001b[0m\u001b[0;34m.\u001b[0m\u001b[0mSession\u001b[0m\u001b[0;34m(\u001b[0m\u001b[0;34m)\u001b[0m \u001b[0;32mas\u001b[0m \u001b[0msess\u001b[0m\u001b[0;34m:\u001b[0m \u001b[0;31m#开始一个会话\u001b[0m\u001b[0;34m\u001b[0m\u001b[0m\n\u001b[0;32m----> 2\u001b[0;31m     \u001b[0mx\u001b[0m\u001b[0;34m=\u001b[0m \u001b[0msess\u001b[0m\u001b[0;34m.\u001b[0m\u001b[0mrun\u001b[0m\u001b[0;34m(\u001b[0m\u001b[0ma\u001b[0m\u001b[0;34m[\u001b[0m\u001b[0;36m0\u001b[0m\u001b[0;34m]\u001b[0m\u001b[0;34m)\u001b[0m\u001b[0;31m#在会话中取出image和label\u001b[0m\u001b[0;34m\u001b[0m\u001b[0m\n\u001b[0m",
      "\u001b[0;32m~/.conda/envs/py3-tf/lib/python3.5/site-packages/tensorflow/python/client/session.py\u001b[0m in \u001b[0;36mrun\u001b[0;34m(self, fetches, feed_dict, options, run_metadata)\u001b[0m\n\u001b[1;32m    893\u001b[0m     \u001b[0;32mtry\u001b[0m\u001b[0;34m:\u001b[0m\u001b[0;34m\u001b[0m\u001b[0m\n\u001b[1;32m    894\u001b[0m       result = self._run(None, fetches, feed_dict, options_ptr,\n\u001b[0;32m--> 895\u001b[0;31m                          run_metadata_ptr)\n\u001b[0m\u001b[1;32m    896\u001b[0m       \u001b[0;32mif\u001b[0m \u001b[0mrun_metadata\u001b[0m\u001b[0;34m:\u001b[0m\u001b[0;34m\u001b[0m\u001b[0m\n\u001b[1;32m    897\u001b[0m         \u001b[0mproto_data\u001b[0m \u001b[0;34m=\u001b[0m \u001b[0mtf_session\u001b[0m\u001b[0;34m.\u001b[0m\u001b[0mTF_GetBuffer\u001b[0m\u001b[0;34m(\u001b[0m\u001b[0mrun_metadata_ptr\u001b[0m\u001b[0;34m)\u001b[0m\u001b[0;34m\u001b[0m\u001b[0m\n",
      "\u001b[0;32m~/.conda/envs/py3-tf/lib/python3.5/site-packages/tensorflow/python/client/session.py\u001b[0m in \u001b[0;36m_run\u001b[0;34m(self, handle, fetches, feed_dict, options, run_metadata)\u001b[0m\n\u001b[1;32m   1126\u001b[0m     \u001b[0;32mif\u001b[0m \u001b[0mfinal_fetches\u001b[0m \u001b[0;32mor\u001b[0m \u001b[0mfinal_targets\u001b[0m \u001b[0;32mor\u001b[0m \u001b[0;34m(\u001b[0m\u001b[0mhandle\u001b[0m \u001b[0;32mand\u001b[0m \u001b[0mfeed_dict_tensor\u001b[0m\u001b[0;34m)\u001b[0m\u001b[0;34m:\u001b[0m\u001b[0;34m\u001b[0m\u001b[0m\n\u001b[1;32m   1127\u001b[0m       results = self._do_run(handle, final_targets, final_fetches,\n\u001b[0;32m-> 1128\u001b[0;31m                              feed_dict_tensor, options, run_metadata)\n\u001b[0m\u001b[1;32m   1129\u001b[0m     \u001b[0;32melse\u001b[0m\u001b[0;34m:\u001b[0m\u001b[0;34m\u001b[0m\u001b[0m\n\u001b[1;32m   1130\u001b[0m       \u001b[0mresults\u001b[0m \u001b[0;34m=\u001b[0m \u001b[0;34m[\u001b[0m\u001b[0;34m]\u001b[0m\u001b[0;34m\u001b[0m\u001b[0m\n",
      "\u001b[0;32m~/.conda/envs/py3-tf/lib/python3.5/site-packages/tensorflow/python/client/session.py\u001b[0m in \u001b[0;36m_do_run\u001b[0;34m(self, handle, target_list, fetch_list, feed_dict, options, run_metadata)\u001b[0m\n\u001b[1;32m   1342\u001b[0m     \u001b[0;32mif\u001b[0m \u001b[0mhandle\u001b[0m \u001b[0;32mis\u001b[0m \u001b[0;32mNone\u001b[0m\u001b[0;34m:\u001b[0m\u001b[0;34m\u001b[0m\u001b[0m\n\u001b[1;32m   1343\u001b[0m       return self._do_call(_run_fn, self._session, feeds, fetches, targets,\n\u001b[0;32m-> 1344\u001b[0;31m                            options, run_metadata)\n\u001b[0m\u001b[1;32m   1345\u001b[0m     \u001b[0;32melse\u001b[0m\u001b[0;34m:\u001b[0m\u001b[0;34m\u001b[0m\u001b[0m\n\u001b[1;32m   1346\u001b[0m       \u001b[0;32mreturn\u001b[0m \u001b[0mself\u001b[0m\u001b[0;34m.\u001b[0m\u001b[0m_do_call\u001b[0m\u001b[0;34m(\u001b[0m\u001b[0m_prun_fn\u001b[0m\u001b[0;34m,\u001b[0m \u001b[0mself\u001b[0m\u001b[0;34m.\u001b[0m\u001b[0m_session\u001b[0m\u001b[0;34m,\u001b[0m \u001b[0mhandle\u001b[0m\u001b[0;34m,\u001b[0m \u001b[0mfeeds\u001b[0m\u001b[0;34m,\u001b[0m \u001b[0mfetches\u001b[0m\u001b[0;34m)\u001b[0m\u001b[0;34m\u001b[0m\u001b[0m\n",
      "\u001b[0;32m~/.conda/envs/py3-tf/lib/python3.5/site-packages/tensorflow/python/client/session.py\u001b[0m in \u001b[0;36m_do_call\u001b[0;34m(self, fn, *args)\u001b[0m\n\u001b[1;32m   1361\u001b[0m         \u001b[0;32mexcept\u001b[0m \u001b[0mKeyError\u001b[0m\u001b[0;34m:\u001b[0m\u001b[0;34m\u001b[0m\u001b[0m\n\u001b[1;32m   1362\u001b[0m           \u001b[0;32mpass\u001b[0m\u001b[0;34m\u001b[0m\u001b[0m\n\u001b[0;32m-> 1363\u001b[0;31m       \u001b[0;32mraise\u001b[0m \u001b[0mtype\u001b[0m\u001b[0;34m(\u001b[0m\u001b[0me\u001b[0m\u001b[0;34m)\u001b[0m\u001b[0;34m(\u001b[0m\u001b[0mnode_def\u001b[0m\u001b[0;34m,\u001b[0m \u001b[0mop\u001b[0m\u001b[0;34m,\u001b[0m \u001b[0mmessage\u001b[0m\u001b[0;34m)\u001b[0m\u001b[0;34m\u001b[0m\u001b[0m\n\u001b[0m\u001b[1;32m   1364\u001b[0m \u001b[0;34m\u001b[0m\u001b[0m\n\u001b[1;32m   1365\u001b[0m   \u001b[0;32mdef\u001b[0m \u001b[0m_extend_graph\u001b[0m\u001b[0;34m(\u001b[0m\u001b[0mself\u001b[0m\u001b[0;34m)\u001b[0m\u001b[0;34m:\u001b[0m\u001b[0;34m\u001b[0m\u001b[0m\n",
      "\u001b[0;31mNotFoundError\u001b[0m: re.tfrecord; No such file or directory\n\t [[Node: IteratorGetNext = IteratorGetNext[output_shapes=[[?], [?,?,?,1], [?,?,?,1], [?,?,?,1], [?,?,?,1], [?,?,?,1], [?,?,?,1], [?,4,4], [?,4,4], [?,4,4], [?,4,4]], output_types=[DT_STRING, DT_FLOAT, DT_FLOAT, DT_FLOAT, DT_FLOAT, DT_FLOAT, DT_FLOAT, DT_FLOAT, DT_FLOAT, DT_FLOAT, DT_FLOAT], _device=\"/job:localhost/replica:0/task:0/device:CPU:0\"](OneShotIterator)]]\n\nCaused by op 'IteratorGetNext', defined at:\n  File \"/home/wang/.conda/envs/py3-tf/lib/python3.5/runpy.py\", line 193, in _run_module_as_main\n    \"__main__\", mod_spec)\n  File \"/home/wang/.conda/envs/py3-tf/lib/python3.5/runpy.py\", line 85, in _run_code\n    exec(code, run_globals)\n  File \"/home/wang/.conda/envs/py3-tf/lib/python3.5/site-packages/ipykernel_launcher.py\", line 16, in <module>\n    app.launch_new_instance()\n  File \"/home/wang/.conda/envs/py3-tf/lib/python3.5/site-packages/traitlets/config/application.py\", line 658, in launch_instance\n    app.start()\n  File \"/home/wang/.conda/envs/py3-tf/lib/python3.5/site-packages/ipykernel/kernelapp.py\", line 505, in start\n    self.io_loop.start()\n  File \"/home/wang/.conda/envs/py3-tf/lib/python3.5/site-packages/tornado/platform/asyncio.py\", line 148, in start\n    self.asyncio_loop.run_forever()\n  File \"/home/wang/.conda/envs/py3-tf/lib/python3.5/asyncio/base_events.py\", line 421, in run_forever\n    self._run_once()\n  File \"/home/wang/.conda/envs/py3-tf/lib/python3.5/asyncio/base_events.py\", line 1425, in _run_once\n    handle._run()\n  File \"/home/wang/.conda/envs/py3-tf/lib/python3.5/asyncio/events.py\", line 127, in _run\n    self._callback(*self._args)\n  File \"/home/wang/.conda/envs/py3-tf/lib/python3.5/site-packages/tornado/ioloop.py\", line 690, in <lambda>\n    lambda f: self._run_callback(functools.partial(callback, future))\n  File \"/home/wang/.conda/envs/py3-tf/lib/python3.5/site-packages/tornado/ioloop.py\", line 743, in _run_callback\n    ret = callback()\n  File \"/home/wang/.conda/envs/py3-tf/lib/python3.5/site-packages/tornado/gen.py\", line 781, in inner\n    self.run()\n  File \"/home/wang/.conda/envs/py3-tf/lib/python3.5/site-packages/tornado/gen.py\", line 742, in run\n    yielded = self.gen.send(value)\n  File \"/home/wang/.conda/envs/py3-tf/lib/python3.5/site-packages/ipykernel/kernelbase.py\", line 357, in process_one\n    yield gen.maybe_future(dispatch(*args))\n  File \"/home/wang/.conda/envs/py3-tf/lib/python3.5/site-packages/tornado/gen.py\", line 209, in wrapper\n    yielded = next(result)\n  File \"/home/wang/.conda/envs/py3-tf/lib/python3.5/site-packages/ipykernel/kernelbase.py\", line 267, in dispatch_shell\n    yield gen.maybe_future(handler(stream, idents, msg))\n  File \"/home/wang/.conda/envs/py3-tf/lib/python3.5/site-packages/tornado/gen.py\", line 209, in wrapper\n    yielded = next(result)\n  File \"/home/wang/.conda/envs/py3-tf/lib/python3.5/site-packages/ipykernel/kernelbase.py\", line 534, in execute_request\n    user_expressions, allow_stdin,\n  File \"/home/wang/.conda/envs/py3-tf/lib/python3.5/site-packages/tornado/gen.py\", line 209, in wrapper\n    yielded = next(result)\n  File \"/home/wang/.conda/envs/py3-tf/lib/python3.5/site-packages/ipykernel/ipkernel.py\", line 294, in do_execute\n    res = shell.run_cell(code, store_history=store_history, silent=silent)\n  File \"/home/wang/.conda/envs/py3-tf/lib/python3.5/site-packages/ipykernel/zmqshell.py\", line 536, in run_cell\n    return super(ZMQInteractiveShell, self).run_cell(*args, **kwargs)\n  File \"/home/wang/.conda/envs/py3-tf/lib/python3.5/site-packages/IPython/core/interactiveshell.py\", line 2848, in run_cell\n    raw_cell, store_history, silent, shell_futures)\n  File \"/home/wang/.conda/envs/py3-tf/lib/python3.5/site-packages/IPython/core/interactiveshell.py\", line 2874, in _run_cell\n    return runner(coro)\n  File \"/home/wang/.conda/envs/py3-tf/lib/python3.5/site-packages/IPython/core/async_helpers.py\", line 67, in _pseudo_sync_runner\n    coro.send(None)\n  File \"/home/wang/.conda/envs/py3-tf/lib/python3.5/site-packages/IPython/core/interactiveshell.py\", line 3049, in run_cell_async\n    interactivity=interactivity, compiler=compiler, result=result)\n  File \"/home/wang/.conda/envs/py3-tf/lib/python3.5/site-packages/IPython/core/interactiveshell.py\", line 3214, in run_ast_nodes\n    if (yield from self.run_code(code, result)):\n  File \"/home/wang/.conda/envs/py3-tf/lib/python3.5/site-packages/IPython/core/interactiveshell.py\", line 3296, in run_code\n    exec(code_obj, self.user_global_ns, self.user_ns)\n  File \"<ipython-input-7-3651dd3ac3ce>\", line 1, in <module>\n    a,photos1, photos2, depths1, depths2, valid_masks1, valid_masks2,c1Tws, c2Tws, Ks1, Ks2 = iterator.get_next()\n  File \"/home/wang/.conda/envs/py3-tf/lib/python3.5/site-packages/tensorflow/python/data/ops/iterator_ops.py\", line 324, in get_next\n    name=name)), self._output_types,\n  File \"/home/wang/.conda/envs/py3-tf/lib/python3.5/site-packages/tensorflow/python/ops/gen_dataset_ops.py\", line 839, in iterator_get_next\n    output_shapes=output_shapes, name=name)\n  File \"/home/wang/.conda/envs/py3-tf/lib/python3.5/site-packages/tensorflow/python/framework/op_def_library.py\", line 787, in _apply_op_helper\n    op_def=op_def)\n  File \"/home/wang/.conda/envs/py3-tf/lib/python3.5/site-packages/tensorflow/python/framework/ops.py\", line 3160, in create_op\n    op_def=op_def)\n  File \"/home/wang/.conda/envs/py3-tf/lib/python3.5/site-packages/tensorflow/python/framework/ops.py\", line 1625, in __init__\n    self._traceback = self._graph._extract_stack()  # pylint: disable=protected-access\n\nNotFoundError (see above for traceback): re.tfrecord; No such file or directory\n\t [[Node: IteratorGetNext = IteratorGetNext[output_shapes=[[?], [?,?,?,1], [?,?,?,1], [?,?,?,1], [?,?,?,1], [?,?,?,1], [?,?,?,1], [?,4,4], [?,4,4], [?,4,4], [?,4,4]], output_types=[DT_STRING, DT_FLOAT, DT_FLOAT, DT_FLOAT, DT_FLOAT, DT_FLOAT, DT_FLOAT, DT_FLOAT, DT_FLOAT, DT_FLOAT, DT_FLOAT], _device=\"/job:localhost/replica:0/task:0/device:CPU:0\"](OneShotIterator)]]\n"
     ]
    }
   ],
   "source": [
    "with tf.Session() as sess: #开始一个会话\n",
    "    x= sess.run(a[0])#在会话中取出image和label"
   ]
  },
  {
   "cell_type": "code",
   "execution_count": 53,
   "metadata": {},
   "outputs": [
    {
     "data": {
      "text/plain": [
       "b'../dataset/scan/color/1320.jpg'"
      ]
     },
     "execution_count": 53,
     "metadata": {},
     "output_type": "execute_result"
    }
   ],
   "source": [
    "x"
   ]
  },
  {
   "cell_type": "code",
   "execution_count": 54,
   "metadata": {},
   "outputs": [],
   "source": [
    "rgb = tf.read_file(a[0])"
   ]
  },
  {
   "cell_type": "code",
   "execution_count": 58,
   "metadata": {},
   "outputs": [],
   "source": [
    "rgb = tf.image.decode_jpeg(rgb, 1)"
   ]
  },
  {
   "cell_type": "code",
   "execution_count": 71,
   "metadata": {},
   "outputs": [],
   "source": [
    "from PIL import Image\n",
    "img = Image.open(x).convert('RGB')"
   ]
  },
  {
   "cell_type": "code",
   "execution_count": 75,
   "metadata": {},
   "outputs": [
    {
     "data": {
      "text/plain": [
       "1296"
      ]
     },
     "execution_count": 75,
     "metadata": {},
     "output_type": "execute_result"
    }
   ],
   "source": [
    "img.width"
   ]
  },
  {
   "cell_type": "code",
   "execution_count": 67,
   "metadata": {},
   "outputs": [],
   "source": [
    "with tf.Session() as sess: \n",
    "    y = sess.run(rgb)"
   ]
  }
 ],
 "metadata": {
  "kernelspec": {
   "display_name": "Python 3",
   "language": "python",
   "name": "python3"
  },
  "language_info": {
   "codemirror_mode": {
    "name": "ipython",
    "version": 3
   },
   "file_extension": ".py",
   "mimetype": "text/x-python",
   "name": "python",
   "nbconvert_exporter": "python",
   "pygments_lexer": "ipython3",
   "version": "3.5.6"
  }
 },
 "nbformat": 4,
 "nbformat_minor": 2
}
