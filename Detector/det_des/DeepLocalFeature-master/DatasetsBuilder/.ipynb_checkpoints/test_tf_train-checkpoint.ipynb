{
 "cells": [
  {
   "cell_type": "code",
   "execution_count": 1,
   "metadata": {},
   "outputs": [],
   "source": [
    "import math\n",
    "import tensorflow as tf\n",
    "import os\n",
    "import sys"
   ]
  },
  {
   "cell_type": "code",
   "execution_count": 2,
   "metadata": {},
   "outputs": [],
   "source": [
    "sys.path.append('../')\n",
    "from common.argparse_utils import *"
   ]
  },
  {
   "cell_type": "code",
   "execution_count": 3,
   "metadata": {},
   "outputs": [],
   "source": [
    "parser = get_parser()"
   ]
  },
  {
   "cell_type": "code",
   "execution_count": 4,
   "metadata": {},
   "outputs": [
    {
     "data": {
      "text/plain": [
       "_StoreAction(option_strings=['--num_threads'], dest='num_threads', nargs=None, const=None, default=8, type=<class 'int'>, choices=None, help='the number of threads (for dataset)', metavar=None)"
      ]
     },
     "execution_count": 4,
     "metadata": {},
     "output_type": "execute_result"
    }
   ],
   "source": [
    "general_arg = add_argument_group('General', parser)\n",
    "general_arg.add_argument('--num_threads', type=int, default=8,\n",
    "                            help='the number of threads (for dataset)')\n"
   ]
  },
  {
   "cell_type": "code",
   "execution_count": 5,
   "metadata": {},
   "outputs": [],
   "source": [
    "import numpy as np"
   ]
  },
  {
   "cell_type": "code",
   "execution_count": 6,
   "metadata": {},
   "outputs": [],
   "source": [
    "train_arg = add_argument_group('Train', parser)\n",
    "train_arg.add_argument('--log_dir', type=str, default='logs/',help='where to save')\n",
    "train_arg.add_argument('--pretrain_dir', type=str, default='',\n",
    "                        help='pretrain model directory')\n",
    "train_arg.add_argument('--clear_logs', action='store_const',\n",
    "                        const=True, default=False,\n",
    "                        help='clear logs if it exists')\n",
    "train_arg.add_argument('--show_histogram', action='store_const',\n",
    "                        const=True, default=False,\n",
    "                        help='show variable / gradient histograms on tensorboard (consume a lot of disk space)')\n",
    "train_arg.add_argument('--max_itr', type=int, default=50000,\n",
    "                        help='max epoch')\n",
    "train_arg.add_argument('--batch_size', type=int, default=6,\n",
    "                        help='batch size')\n",
    "train_arg.add_argument('--optim_method', type=str, default='Adam',\n",
    "                        help='adam, momentum, ftrl, rmsprop')\n",
    "train_arg.add_argument('--lr', type=float, default=1e-3,\n",
    "                        help='learning rate')\n",
    "train_arg.add_argument('--lr_decay', type=str2bool, default=False,\n",
    "                        help='apply lr decay')\n",
    "\n",
    "det_train_arg = add_argument_group('Detector Train', parser)\n",
    "det_train_arg.add_argument('--det_loss', type=str, default='l2loss',\n",
    "                        help='l2loss|lift')\n",
    "det_train_arg.add_argument('--hm_ksize', type=int, default=15,\n",
    "                        help='gauss kernel size for heatmaps (odd value)')\n",
    "det_train_arg.add_argument('--hm_sigma', type=float, default=0.5,\n",
    "                        help='gauss kernel sigma for heatmaps')\n",
    "det_train_arg.add_argument('--nms_thresh', type=float, default=0.0,\n",
    "                        help='threshold before non max suppression')\n",
    "det_train_arg.add_argument('--nms_ksize', type=int, default=5,\n",
    "                        help='filter size of non max suppression')\n",
    "det_train_arg.add_argument('--top_k', type=int, default=512,\n",
    "                        help='select top k keypoints')\n",
    "det_train_arg.add_argument('--weight_det_loss', type=float, default=0.01,\n",
    "                        help='L_det = L2-score map + lambda * pairwise-loss')\n",
    "# supervised orientation training\n",
    "det_train_arg.add_argument('--ori_loss', type=str, default='l2loss',\n",
    "                        help='orientation loss (l2loss|cosine)')\n",
    "det_train_arg.add_argument('--ori_weight', type=float, default=0.1,\n",
    "                        help='orientation weight (L_det = L_score + L_ori + L_scale + L_pair)')\n",
    "det_train_arg.add_argument('--scale_weight', type=float, default=0.1,\n",
    "                        help='scale weight (L_det = L_score + L_ori + L_scale + L_pair)')\n",
    "\n",
    "desc_train_arg = add_argument_group('Descriptor Train', parser)\n",
    "desc_train_arg.add_argument('--desc_loss', type=str, default='triplet',\n",
    "                        help='descriptor loss')\n",
    "desc_train_arg.add_argument('--desc_margin', type=float, default=1.0,\n",
    "                        help='triplet margin for descriptor loss')\n",
    "desc_train_arg.add_argument('--crop_radius', type=int, default=16, \n",
    "                        help='crop radius of region proposal')\n",
    "desc_train_arg.add_argument('--patch_size', type=int, default=32, \n",
    "                        help='cropped patch size')\n",
    "desc_train_arg.add_argument('--mining_type', type=str, default='rand_hard_sch',\n",
    "                        help='negative mining type (hard|random|hard2geom|rand_hard_sch)')\n",
    "desc_train_arg.add_argument('--desc_inputs', type=str, default='photos',\n",
    "                        help='descriptor inputs type (det_feats|photos|concat)')\n",
    "desc_train_arg.add_argument('--desc_train_delay', type=int, default=0,\n",
    "                        help='starting iteration to train descriptor')\n",
    "\n",
    "dataset_arg = add_argument_group('Dataset', parser)\n",
    "dataset_arg.add_argument('--dataset', type=str, default='sfm',\n",
    "                        help='dataset (scenenet|scannet)')\n",
    "dataset_arg.add_argument('--sfm_img_dir', type=str, default='./release/outdoor_examples/images',\n",
    "                        help='sfm image root directory')\n",
    "dataset_arg.add_argument('--sfm_dpt_dir', type=str, default='./release/outdoor_examples/depths',\n",
    "                        help='sfm depth and pose root directory')\n",
    "dataset_arg.add_argument('--sfm_seq', type=str, default='sacre_coeur',\n",
    "                        help='sfm sequence name. concatenate with , if you want to add multiple sequences')\n",
    "dataset_arg.add_argument('--rot_aug', type=str2bool, default=True,\n",
    "                        help='add rotation augmentation')\n",
    "dataset_arg.add_argument('--scale_aug', type=str2bool, default=True,\n",
    "                        help='add rotation augmentation')\n",
    "dataset_arg.add_argument('--aug_max_degree', type=int, default=180,\n",
    "                        help='max degree for rot, min_degree will be decided by -max_degree')\n",
    "dataset_arg.add_argument('--aug_max_scale', type=float, default=1.414,\n",
    "                        help='max scale (in linear space, min_scale and max_scale should be symmetry in log-space)')\n",
    "dataset_arg.add_argument('--data_raw_size', type=int, default=362,\n",
    "                        help='image raw size')\n",
    "dataset_arg.add_argument('--data_size', type=int, default=256,\n",
    "                        help='image size (data_size * sqrt(2) = data_raw_size)')\n",
    "\n",
    "dataset_arg.add_argument('--depth_thresh', type=float, default=1.0,\n",
    "                        help='depth threshold for inverse warping')\n",
    "dataset_arg.add_argument('--match_reproj_thresh', type=float, default=5,\n",
    "                        help='matching reprojection error threshold')\n",
    "\n",
    "det_net_arg = add_argument_group('Detector CNN', parser)\n",
    "det_net_arg.add_argument('--detector', type=str, default='mso_resnet_detector',\n",
    "                        help='network model (mso_resnet_detector)')\n",
    "det_net_arg.add_argument('--activ_fn', type=str, default='leaky_relu',\n",
    "                        help='activation function (relu|leaky_relu|tanh)')\n",
    "det_net_arg.add_argument('--leaky_alpha', type=float, default=0.2,\n",
    "                        help='alpha of leaky relu')\n",
    "det_net_arg.add_argument('--perform_bn', type=str2bool, default=True,\n",
    "                        help='use batch normalization')\n",
    "det_net_arg.add_argument('--net_channel', type=int, default=16,\n",
    "                        help='init network channels')\n",
    "det_net_arg.add_argument('--net_block', type=int, default=3,\n",
    "                        help='# residual block (each block has 2 conv)')    \n",
    "det_net_arg.add_argument('--conv_ksize', type=int, default=5,\n",
    "                        help='kernel size of conv layer')\n",
    "det_net_arg.add_argument('--ori_ksize', type=int, default=5,\n",
    "                        help='kernel size of orientation conv layer')\n",
    "det_net_arg.add_argument('--sm_ksize', type=int, default=15,\n",
    "                        help='kernel size of spatial softmax')    \n",
    "det_net_arg.add_argument('--com_strength', type=float, default=3.0,\n",
    "                        help='center of the mass')\n",
    "det_net_arg.add_argument('--train_ori', type=str2bool, default=True,\n",
    "                        help='train ori params')\n",
    "det_net_arg.add_argument('--net_min_scale', type=float, default=1.0/np.sqrt(2),\n",
    "                        help='min scale at pyramid heatmaps')\n",
    "det_net_arg.add_argument('--net_max_scale', type=float, default=np.sqrt(2),\n",
    "                        help='max scale at pyramid heatmaps')\n",
    "det_net_arg.add_argument('--net_num_scales', type=int, default=5,\n",
    "                        help='number of scale maps (e.g. num_scales = (log2(1)-log2(min_scale)) / log2(2**(1/3)) )')\n",
    "\n",
    "desc_net_arg = add_argument_group('Descriptor CNN', parser)\n",
    "desc_net_arg.add_argument('--descriptor', type=str, default='simple_desc',\n",
    "                        help='descriptor network model (simple_desc)')\n",
    "\n",
    "desc_net_arg.add_argument('--desc_activ_fn', type=str, default='relu',\n",
    "                        help='activation function (relu|leaky_relu|tanh)')\n",
    "desc_net_arg.add_argument('--desc_leaky_alpha', type=float, default=0.2,\n",
    "                        help='alpha of leaky relu')\n",
    "desc_net_arg.add_argument('--desc_perform_bn', type=str2bool, default=True,\n",
    "                        help='use batch normalization')\n",
    "desc_net_arg.add_argument('--desc_net_channel', type=int, default=64,\n",
    "                        help='init network channels')\n",
    "desc_net_arg.add_argument('--desc_net_depth', type=int, default=3,\n",
    "                        help='# conv layers')    \n",
    "desc_net_arg.add_argument('--desc_conv_ksize', type=int, default=3,\n",
    "                        help='kernel size of conv layer')    \n",
    "desc_net_arg.add_argument('--desc_norm', type=str, default='l2norm',\n",
    "                        help='feature normalization (l2norm|inst|rootsift|non)')    \n",
    "desc_net_arg.add_argument('--desc_dim', type=int, default=256,\n",
    "                        help='descriptor feature dimension')\n",
    "\n",
    "misc_arg = add_argument_group('Misc.', parser)\n",
    "misc_arg.add_argument('--train_same_time', type=str2bool, default=True,\n",
    "                        help='train det loss and ori loss at the same time')\n",
    "misc_arg.add_argument('--input_inst_norm', type=str2bool, default=True,\n",
    "                        help='input are normalized with inpstance norm')\n",
    "misc_arg.add_argument('--hard_geom_thresh', type=str2bool, default=32,\n",
    "                        help='x,y coordinate distance threshold')\n",
    "misc_arg.add_argument('--init_num_mine', type=int, default=64,\n",
    "                        help='initial top-k sampling for negative mining')\n",
    "desc_train_arg.add_argument('--min_num_pickup', type=int, default=5,\n",
    "                        help='minimum random pickup')\n",
    "desc_train_arg.add_argument('--pickup_delay', type=float, default=0.9,\n",
    "                        help='decay rate in every 1000 iteration')\n",
    "\n",
    "misc_arg.add_argument('--soft_scale', type=str2bool, default=True,\n",
    "                        help='make scale differentiable')\n",
    "misc_arg.add_argument('--soft_kpts', type=str2bool, default=True,\n",
    "                        help='make delta xy differentiable')\n",
    "misc_arg.add_argument('--do_softmax_kp_refine', type=str2bool, default=True,\n",
    "                        help='do softmax again for kp refinement')\n",
    "misc_arg.add_argument('--kp_loc_size', type=int, default=9,\n",
    "                        help='make scale differentiable')\n",
    "misc_arg.add_argument('--score_com_strength', type=float, default=100,\n",
    "                        help='com strength')\n",
    "misc_arg.add_argument('--scale_com_strength', type=float, default=100,\n",
    "                        help='com strength')\n",
    "misc_arg.add_argument('--kp_com_strength', type=float, default=1.0,\n",
    "                        help='com strength')\n",
    "misc_arg.add_argument('--use_nms3d', type=str2bool, default=True,\n",
    "                        help='use NMS3D to detect keypoints')\n",
    "\n",
    "config, unparsed = get_config(parser)"
   ]
  },
  {
   "cell_type": "code",
   "execution_count": 7,
   "metadata": {},
   "outputs": [
    {
     "data": {
      "text/plain": [
       "Namespace(activ_fn='leaky_relu', aug_max_degree=180, aug_max_scale=1.414, batch_size=6, clear_logs=False, com_strength=3.0, conv_ksize=5, crop_radius=16, data_raw_size=362, data_size=256, dataset='sfm', depth_thresh=1.0, desc_activ_fn='relu', desc_conv_ksize=3, desc_dim=256, desc_inputs='photos', desc_leaky_alpha=0.2, desc_loss='triplet', desc_margin=1.0, desc_net_channel=64, desc_net_depth=3, desc_norm='l2norm', desc_perform_bn=True, desc_train_delay=0, descriptor='simple_desc', det_loss='l2loss', detector='mso_resnet_detector', do_softmax_kp_refine=True, hard_geom_thresh=32, hm_ksize=15, hm_sigma=0.5, init_num_mine=64, input_inst_norm=True, kp_com_strength=1.0, kp_loc_size=9, leaky_alpha=0.2, log_dir='logs/', lr=0.001, lr_decay=False, match_reproj_thresh=5, max_itr=50000, min_num_pickup=5, mining_type='rand_hard_sch', net_block=3, net_channel=16, net_max_scale=1.4142135623730951, net_min_scale=0.7071067811865475, net_num_scales=5, nms_ksize=5, nms_thresh=0.0, num_threads=8, optim_method='Adam', ori_ksize=5, ori_loss='l2loss', ori_weight=0.1, patch_size=32, perform_bn=True, pickup_delay=0.9, pretrain_dir='', rot_aug=True, scale_aug=True, scale_com_strength=100, scale_weight=0.1, score_com_strength=100, sfm_dpt_dir='./release/outdoor_examples/depths', sfm_img_dir='./release/outdoor_examples/images', sfm_seq='sacre_coeur', show_histogram=False, sm_ksize=15, soft_kpts=True, soft_scale=True, top_k=512, train_ori=True, train_same_time=True, use_nms3d=True, weight_det_loss=0.01)"
      ]
     },
     "execution_count": 7,
     "metadata": {},
     "output_type": "execute_result"
    }
   ],
   "source": [
    "config"
   ]
  },
  {
   "cell_type": "code",
   "execution_count": 8,
   "metadata": {},
   "outputs": [],
   "source": [
    "log_dir = config.log_dir\n",
    "batch_size = config.batch_size\n",
    "optim_method = config.optim_method\n",
    "learning_rate = config.lr\n",
    "va_batch_size = 1"
   ]
  },
  {
   "cell_type": "code",
   "execution_count": 12,
   "metadata": {},
   "outputs": [
    {
     "data": {
      "text/plain": [
       "50000"
      ]
     },
     "execution_count": 12,
     "metadata": {},
     "output_type": "execute_result"
    }
   ],
   "source": [
    "config.max_itr"
   ]
  },
  {
   "cell_type": "code",
   "execution_count": 13,
   "metadata": {},
   "outputs": [],
   "source": [
    "if config.lr_decay:\n",
    "        boundaries = [5000, 15000, 30000, 50000]\n",
    "        lr_levels = [0.1**i for i in range(len(boundaries))]\n",
    "        lr_values = [learning_rate * decay for decay in lr_levels]\n",
    "        learning_rate = get_piecewise_lr(global_step, boundaries, lr_values, show_summary=True)\n",
    "        print('Enable adaptive learning. LR will decrease {} when #iter={}'.format(lr_values, boundaries))        "
   ]
  },
  {
   "cell_type": "code",
   "execution_count": 14,
   "metadata": {},
   "outputs": [
    {
     "ename": "NameError",
     "evalue": "name 'lr_values' is not defined",
     "output_type": "error",
     "traceback": [
      "\u001b[0;31m---------------------------------------------------------------------------\u001b[0m",
      "\u001b[0;31mNameError\u001b[0m                                 Traceback (most recent call last)",
      "\u001b[0;32m<ipython-input-14-ba86e24b3203>\u001b[0m in \u001b[0;36m<module>\u001b[0;34m\u001b[0m\n\u001b[0;32m----> 1\u001b[0;31m \u001b[0mprint\u001b[0m\u001b[0;34m(\u001b[0m\u001b[0;34m'Enable adaptive learning. LR will decrease {} when #iter={}'\u001b[0m\u001b[0;34m.\u001b[0m\u001b[0mformat\u001b[0m\u001b[0;34m(\u001b[0m\u001b[0mlr_values\u001b[0m\u001b[0;34m,\u001b[0m \u001b[0mboundaries\u001b[0m\u001b[0;34m)\u001b[0m\u001b[0;34m)\u001b[0m\u001b[0;34m\u001b[0m\u001b[0m\n\u001b[0m",
      "\u001b[0;31mNameError\u001b[0m: name 'lr_values' is not defined"
     ]
    }
   ],
   "source": [
    "print('Enable adaptive learning. LR will decrease {} when #iter={}'.format(lr_values, boundaries))        "
   ]
  },
  {
   "cell_type": "code",
   "execution_count": 15,
   "metadata": {},
   "outputs": [
    {
     "data": {
      "text/plain": [
       "False"
      ]
     },
     "execution_count": 15,
     "metadata": {},
     "output_type": "execute_result"
    }
   ],
   "source": [
    "config.lr_decay"
   ]
  },
  {
   "cell_type": "code",
   "execution_count": 16,
   "metadata": {},
   "outputs": [
    {
     "data": {
      "text/plain": [
       "True"
      ]
     },
     "execution_count": 16,
     "metadata": {},
     "output_type": "execute_result"
    }
   ],
   "source": [
    "config.use_nms3d"
   ]
  },
  {
   "cell_type": "code",
   "execution_count": 17,
   "metadata": {},
   "outputs": [],
   "source": [
    "config.sfm_dpt_dir='../release/outdoor_examples/depths'"
   ]
  },
  {
   "cell_type": "code",
   "execution_count": 18,
   "metadata": {},
   "outputs": [],
   "source": [
    "config.sfm_img_dir='../release/outdoor_examples/images'\n"
   ]
  },
  {
   "cell_type": "code",
   "execution_count": 19,
   "metadata": {},
   "outputs": [],
   "source": [
    "from det_tools import *\n",
    "from eval_tools import compute_sift, compute_sift_multi_scale, draw_match, draw_keypoints, draw_match2\n",
    "from common.tf_layer_utils import *\n",
    "from common.tf_train_utils import get_optimizer, get_piecewise_lr, get_activation_fn\n",
    "from common.tfvisualizer import log_images, convert_tile_image\n",
    "from mydatasets.sfmdataset import SfMDataset"
   ]
  },
  {
   "cell_type": "code",
   "execution_count": 20,
   "metadata": {},
   "outputs": [
    {
     "name": "stdout",
     "output_type": "stream",
     "text": [
      "[SfM-SPLIT] Setup sfm (1-seqs)\n",
      "sacre_coeur has 75073 examples\n",
      "Tensor(\"add:0\", shape=(), dtype=string)\n",
      "Tensor(\"add:0\", shape=(), dtype=string)\n",
      "aug_mode=random max_rad=3.141592653589793, max_scale_log=0.34642256747438094\n",
      "Add random logscale=-0.35~0.35, ori=-3.141592653589793~3.141592653589793\n",
      "sacre_coeur has 4631 examples\n",
      "---> actual size=2000\n",
      "Tensor(\"add:0\", shape=(), dtype=string)\n",
      "Tensor(\"add:0\", shape=(), dtype=string)\n",
      "aug_mode=none max_rad=3.141592653589793, max_scale_log=0.3465735902799727\n"
     ]
    }
   ],
   "source": [
    "if config.dataset == 'sfm':\n",
    "    render_paths = config.sfm_seq.split(',')\n",
    "    print('[SfM-SPLIT] Setup sfm ({}-seqs)'.format(len(render_paths)))\n",
    "    tr_loader = SfMDataset(out_size=(config.data_raw_size, config.data_raw_size), \n",
    "                           warp_aug_mode='random', flip_pair=True, max_degree=config.aug_max_degree, max_scale=config.aug_max_scale,\n",
    "                           num_threads=config.num_threads)\n",
    "    tr_dataset = tr_loader.get_dataset(config.sfm_dpt_dir, config.sfm_img_dir, \n",
    "                        render_paths, phase='train',\n",
    "                        batch_size=batch_size, shuffle=True)\n",
    "    va_loader = SfMDataset(out_size=(config.data_raw_size, config.data_raw_size), \n",
    "                           warp_aug_mode='none', flip_pair=False,\n",
    "                           num_threads=config.num_threads)\n",
    "    va_dataset_list = [va_loader.get_dataset(config.sfm_dpt_dir, config.sfm_img_dir, \n",
    "                        render_paths, phase='valid',\n",
    "                        batch_size=va_batch_size, shuffle=False, max_examples=2000)]\n",
    "    va_attributes = [{'name': config.dataset,\n",
    "                      'num_photos_per_seq': va_loader.num_photos_per_seq_data,\n",
    "                      'total_num_photos': va_loader.total_num_photos,\n",
    "                    }]\n",
    "else:\n",
    "    raise ValueError('Unknown dataset: {}'.format(config.dataset))\n"
   ]
  },
  {
   "cell_type": "code",
   "execution_count": 21,
   "metadata": {},
   "outputs": [],
   "source": [
    "handle = tf.placeholder(tf.string, shape=[])\n",
    "dataset_iter = tf.data.Iterator.from_string_handle(handle, tr_dataset.output_types, tr_dataset.output_shapes)\n",
    "next_batch = list(dataset_iter.get_next()) "
   ]
  },
  {
   "cell_type": "code",
   "execution_count": 22,
   "metadata": {},
   "outputs": [
    {
     "data": {
      "text/plain": [
       "[<tf.Tensor 'IteratorGetNext:0' shape=(?, 362, 362, ?) dtype=float32>,\n",
       " <tf.Tensor 'IteratorGetNext:1' shape=(?, 362, 362, ?) dtype=float32>,\n",
       " <tf.Tensor 'IteratorGetNext:2' shape=(?, 362, 362, 1) dtype=float32>,\n",
       " <tf.Tensor 'IteratorGetNext:3' shape=(?, 362, 362, 1) dtype=float32>,\n",
       " <tf.Tensor 'IteratorGetNext:4' shape=(?, 362, 362, 1) dtype=float32>,\n",
       " <tf.Tensor 'IteratorGetNext:5' shape=(?, 362, 362, 1) dtype=float32>,\n",
       " <tf.Tensor 'IteratorGetNext:6' shape=(?, 4, 4) dtype=float32>,\n",
       " <tf.Tensor 'IteratorGetNext:7' shape=(?, 4, 4) dtype=float32>,\n",
       " <tf.Tensor 'IteratorGetNext:8' shape=(?, 4, 4) dtype=float32>,\n",
       " <tf.Tensor 'IteratorGetNext:9' shape=(?, 4, 4) dtype=float32>,\n",
       " <tf.Tensor 'IteratorGetNext:10' shape=(?, 3, 3) dtype=float32>,\n",
       " <tf.Tensor 'IteratorGetNext:11' shape=(?, 3, 3) dtype=float32>,\n",
       " <tf.Tensor 'IteratorGetNext:12' shape=(?, ?) dtype=float32>,\n",
       " <tf.Tensor 'IteratorGetNext:13' shape=(?,) dtype=bool>]"
      ]
     },
     "execution_count": 22,
     "metadata": {},
     "output_type": "execute_result"
    }
   ],
   "source": [
    "next_batch"
   ]
  },
  {
   "cell_type": "code",
   "execution_count": 35,
   "metadata": {},
   "outputs": [
    {
     "ename": "InvalidArgumentError",
     "evalue": "You must feed a value for placeholder tensor 'Placeholder' with dtype string\n\t [[Node: Placeholder = Placeholder[dtype=DT_STRING, shape=[], _device=\"/job:localhost/replica:0/task:0/device:CPU:0\"]()]]\n\nCaused by op 'Placeholder', defined at:\n  File \"/home/wang/.conda/envs/py3-tf/lib/python3.5/runpy.py\", line 193, in _run_module_as_main\n    \"__main__\", mod_spec)\n  File \"/home/wang/.conda/envs/py3-tf/lib/python3.5/runpy.py\", line 85, in _run_code\n    exec(code, run_globals)\n  File \"/home/wang/.conda/envs/py3-tf/lib/python3.5/site-packages/ipykernel_launcher.py\", line 16, in <module>\n    app.launch_new_instance()\n  File \"/home/wang/.conda/envs/py3-tf/lib/python3.5/site-packages/traitlets/config/application.py\", line 658, in launch_instance\n    app.start()\n  File \"/home/wang/.conda/envs/py3-tf/lib/python3.5/site-packages/ipykernel/kernelapp.py\", line 505, in start\n    self.io_loop.start()\n  File \"/home/wang/.conda/envs/py3-tf/lib/python3.5/site-packages/tornado/platform/asyncio.py\", line 148, in start\n    self.asyncio_loop.run_forever()\n  File \"/home/wang/.conda/envs/py3-tf/lib/python3.5/asyncio/base_events.py\", line 421, in run_forever\n    self._run_once()\n  File \"/home/wang/.conda/envs/py3-tf/lib/python3.5/asyncio/base_events.py\", line 1425, in _run_once\n    handle._run()\n  File \"/home/wang/.conda/envs/py3-tf/lib/python3.5/asyncio/events.py\", line 127, in _run\n    self._callback(*self._args)\n  File \"/home/wang/.conda/envs/py3-tf/lib/python3.5/site-packages/tornado/ioloop.py\", line 690, in <lambda>\n    lambda f: self._run_callback(functools.partial(callback, future))\n  File \"/home/wang/.conda/envs/py3-tf/lib/python3.5/site-packages/tornado/ioloop.py\", line 743, in _run_callback\n    ret = callback()\n  File \"/home/wang/.conda/envs/py3-tf/lib/python3.5/site-packages/tornado/gen.py\", line 781, in inner\n    self.run()\n  File \"/home/wang/.conda/envs/py3-tf/lib/python3.5/site-packages/tornado/gen.py\", line 742, in run\n    yielded = self.gen.send(value)\n  File \"/home/wang/.conda/envs/py3-tf/lib/python3.5/site-packages/ipykernel/kernelbase.py\", line 357, in process_one\n    yield gen.maybe_future(dispatch(*args))\n  File \"/home/wang/.conda/envs/py3-tf/lib/python3.5/site-packages/tornado/gen.py\", line 209, in wrapper\n    yielded = next(result)\n  File \"/home/wang/.conda/envs/py3-tf/lib/python3.5/site-packages/ipykernel/kernelbase.py\", line 267, in dispatch_shell\n    yield gen.maybe_future(handler(stream, idents, msg))\n  File \"/home/wang/.conda/envs/py3-tf/lib/python3.5/site-packages/tornado/gen.py\", line 209, in wrapper\n    yielded = next(result)\n  File \"/home/wang/.conda/envs/py3-tf/lib/python3.5/site-packages/ipykernel/kernelbase.py\", line 534, in execute_request\n    user_expressions, allow_stdin,\n  File \"/home/wang/.conda/envs/py3-tf/lib/python3.5/site-packages/tornado/gen.py\", line 209, in wrapper\n    yielded = next(result)\n  File \"/home/wang/.conda/envs/py3-tf/lib/python3.5/site-packages/ipykernel/ipkernel.py\", line 294, in do_execute\n    res = shell.run_cell(code, store_history=store_history, silent=silent)\n  File \"/home/wang/.conda/envs/py3-tf/lib/python3.5/site-packages/ipykernel/zmqshell.py\", line 536, in run_cell\n    return super(ZMQInteractiveShell, self).run_cell(*args, **kwargs)\n  File \"/home/wang/.conda/envs/py3-tf/lib/python3.5/site-packages/IPython/core/interactiveshell.py\", line 2848, in run_cell\n    raw_cell, store_history, silent, shell_futures)\n  File \"/home/wang/.conda/envs/py3-tf/lib/python3.5/site-packages/IPython/core/interactiveshell.py\", line 2874, in _run_cell\n    return runner(coro)\n  File \"/home/wang/.conda/envs/py3-tf/lib/python3.5/site-packages/IPython/core/async_helpers.py\", line 67, in _pseudo_sync_runner\n    coro.send(None)\n  File \"/home/wang/.conda/envs/py3-tf/lib/python3.5/site-packages/IPython/core/interactiveshell.py\", line 3049, in run_cell_async\n    interactivity=interactivity, compiler=compiler, result=result)\n  File \"/home/wang/.conda/envs/py3-tf/lib/python3.5/site-packages/IPython/core/interactiveshell.py\", line 3214, in run_ast_nodes\n    if (yield from self.run_code(code, result)):\n  File \"/home/wang/.conda/envs/py3-tf/lib/python3.5/site-packages/IPython/core/interactiveshell.py\", line 3296, in run_code\n    exec(code_obj, self.user_global_ns, self.user_ns)\n  File \"<ipython-input-21-1c33a2542cfc>\", line 1, in <module>\n    handle = tf.placeholder(tf.string, shape=[])\n  File \"/home/wang/.conda/envs/py3-tf/lib/python3.5/site-packages/tensorflow/python/ops/array_ops.py\", line 1680, in placeholder\n    return gen_array_ops._placeholder(dtype=dtype, shape=shape, name=name)\n  File \"/home/wang/.conda/envs/py3-tf/lib/python3.5/site-packages/tensorflow/python/ops/gen_array_ops.py\", line 3141, in _placeholder\n    \"Placeholder\", dtype=dtype, shape=shape, name=name)\n  File \"/home/wang/.conda/envs/py3-tf/lib/python3.5/site-packages/tensorflow/python/framework/op_def_library.py\", line 787, in _apply_op_helper\n    op_def=op_def)\n  File \"/home/wang/.conda/envs/py3-tf/lib/python3.5/site-packages/tensorflow/python/framework/ops.py\", line 3160, in create_op\n    op_def=op_def)\n  File \"/home/wang/.conda/envs/py3-tf/lib/python3.5/site-packages/tensorflow/python/framework/ops.py\", line 1625, in __init__\n    self._traceback = self._graph._extract_stack()  # pylint: disable=protected-access\n\nInvalidArgumentError (see above for traceback): You must feed a value for placeholder tensor 'Placeholder' with dtype string\n\t [[Node: Placeholder = Placeholder[dtype=DT_STRING, shape=[], _device=\"/job:localhost/replica:0/task:0/device:CPU:0\"]()]]\n",
     "output_type": "error",
     "traceback": [
      "\u001b[0;31m---------------------------------------------------------------------------\u001b[0m",
      "\u001b[0;31mInvalidArgumentError\u001b[0m                      Traceback (most recent call last)",
      "\u001b[0;32m~/.conda/envs/py3-tf/lib/python3.5/site-packages/tensorflow/python/client/session.py\u001b[0m in \u001b[0;36m_do_call\u001b[0;34m(self, fn, *args)\u001b[0m\n\u001b[1;32m   1349\u001b[0m     \u001b[0;32mtry\u001b[0m\u001b[0;34m:\u001b[0m\u001b[0;34m\u001b[0m\u001b[0m\n\u001b[0;32m-> 1350\u001b[0;31m       \u001b[0;32mreturn\u001b[0m \u001b[0mfn\u001b[0m\u001b[0;34m(\u001b[0m\u001b[0;34m*\u001b[0m\u001b[0margs\u001b[0m\u001b[0;34m)\u001b[0m\u001b[0;34m\u001b[0m\u001b[0m\n\u001b[0m\u001b[1;32m   1351\u001b[0m     \u001b[0;32mexcept\u001b[0m \u001b[0merrors\u001b[0m\u001b[0;34m.\u001b[0m\u001b[0mOpError\u001b[0m \u001b[0;32mas\u001b[0m \u001b[0me\u001b[0m\u001b[0;34m:\u001b[0m\u001b[0;34m\u001b[0m\u001b[0m\n",
      "\u001b[0;32m~/.conda/envs/py3-tf/lib/python3.5/site-packages/tensorflow/python/client/session.py\u001b[0m in \u001b[0;36m_run_fn\u001b[0;34m(session, feed_dict, fetch_list, target_list, options, run_metadata)\u001b[0m\n\u001b[1;32m   1328\u001b[0m                                    \u001b[0mfeed_dict\u001b[0m\u001b[0;34m,\u001b[0m \u001b[0mfetch_list\u001b[0m\u001b[0;34m,\u001b[0m \u001b[0mtarget_list\u001b[0m\u001b[0;34m,\u001b[0m\u001b[0;34m\u001b[0m\u001b[0m\n\u001b[0;32m-> 1329\u001b[0;31m                                    status, run_metadata)\n\u001b[0m\u001b[1;32m   1330\u001b[0m \u001b[0;34m\u001b[0m\u001b[0m\n",
      "\u001b[0;32m~/.conda/envs/py3-tf/lib/python3.5/site-packages/tensorflow/python/framework/errors_impl.py\u001b[0m in \u001b[0;36m__exit__\u001b[0;34m(self, type_arg, value_arg, traceback_arg)\u001b[0m\n\u001b[1;32m    472\u001b[0m             \u001b[0mcompat\u001b[0m\u001b[0;34m.\u001b[0m\u001b[0mas_text\u001b[0m\u001b[0;34m(\u001b[0m\u001b[0mc_api\u001b[0m\u001b[0;34m.\u001b[0m\u001b[0mTF_Message\u001b[0m\u001b[0;34m(\u001b[0m\u001b[0mself\u001b[0m\u001b[0;34m.\u001b[0m\u001b[0mstatus\u001b[0m\u001b[0;34m.\u001b[0m\u001b[0mstatus\u001b[0m\u001b[0;34m)\u001b[0m\u001b[0;34m)\u001b[0m\u001b[0;34m,\u001b[0m\u001b[0;34m\u001b[0m\u001b[0m\n\u001b[0;32m--> 473\u001b[0;31m             c_api.TF_GetCode(self.status.status))\n\u001b[0m\u001b[1;32m    474\u001b[0m     \u001b[0;31m# Delete the underlying status object from memory otherwise it stays alive\u001b[0m\u001b[0;34m\u001b[0m\u001b[0;34m\u001b[0m\u001b[0m\n",
      "\u001b[0;31mInvalidArgumentError\u001b[0m: You must feed a value for placeholder tensor 'Placeholder' with dtype string\n\t [[Node: Placeholder = Placeholder[dtype=DT_STRING, shape=[], _device=\"/job:localhost/replica:0/task:0/device:CPU:0\"]()]]",
      "\nDuring handling of the above exception, another exception occurred:\n",
      "\u001b[0;31mInvalidArgumentError\u001b[0m                      Traceback (most recent call last)",
      "\u001b[0;32m<ipython-input-35-e0e71a6c9964>\u001b[0m in \u001b[0;36m<module>\u001b[0;34m\u001b[0m\n\u001b[1;32m      1\u001b[0m \u001b[0;32mwith\u001b[0m \u001b[0mtf\u001b[0m\u001b[0;34m.\u001b[0m\u001b[0mSession\u001b[0m\u001b[0;34m(\u001b[0m\u001b[0;34m)\u001b[0m \u001b[0;32mas\u001b[0m \u001b[0msess\u001b[0m\u001b[0;34m:\u001b[0m\u001b[0;34m\u001b[0m\u001b[0m\n\u001b[0;32m----> 2\u001b[0;31m     \u001b[0mM_conv2\u001b[0m\u001b[0;34m=\u001b[0m\u001b[0msess\u001b[0m\u001b[0;34m.\u001b[0m\u001b[0mrun\u001b[0m\u001b[0;34m(\u001b[0m\u001b[0mtf\u001b[0m\u001b[0;34m.\u001b[0m\u001b[0mshape\u001b[0m\u001b[0;34m(\u001b[0m\u001b[0mnext_batch\u001b[0m\u001b[0;34m[\u001b[0m\u001b[0;36m0\u001b[0m\u001b[0;34m]\u001b[0m\u001b[0;34m)\u001b[0m\u001b[0;34m[\u001b[0m\u001b[0;36m0\u001b[0m\u001b[0;34m]\u001b[0m\u001b[0;34m)\u001b[0m\u001b[0;34m\u001b[0m\u001b[0m\n\u001b[0m",
      "\u001b[0;32m~/.conda/envs/py3-tf/lib/python3.5/site-packages/tensorflow/python/client/session.py\u001b[0m in \u001b[0;36mrun\u001b[0;34m(self, fetches, feed_dict, options, run_metadata)\u001b[0m\n\u001b[1;32m    893\u001b[0m     \u001b[0;32mtry\u001b[0m\u001b[0;34m:\u001b[0m\u001b[0;34m\u001b[0m\u001b[0m\n\u001b[1;32m    894\u001b[0m       result = self._run(None, fetches, feed_dict, options_ptr,\n\u001b[0;32m--> 895\u001b[0;31m                          run_metadata_ptr)\n\u001b[0m\u001b[1;32m    896\u001b[0m       \u001b[0;32mif\u001b[0m \u001b[0mrun_metadata\u001b[0m\u001b[0;34m:\u001b[0m\u001b[0;34m\u001b[0m\u001b[0m\n\u001b[1;32m    897\u001b[0m         \u001b[0mproto_data\u001b[0m \u001b[0;34m=\u001b[0m \u001b[0mtf_session\u001b[0m\u001b[0;34m.\u001b[0m\u001b[0mTF_GetBuffer\u001b[0m\u001b[0;34m(\u001b[0m\u001b[0mrun_metadata_ptr\u001b[0m\u001b[0;34m)\u001b[0m\u001b[0;34m\u001b[0m\u001b[0m\n",
      "\u001b[0;32m~/.conda/envs/py3-tf/lib/python3.5/site-packages/tensorflow/python/client/session.py\u001b[0m in \u001b[0;36m_run\u001b[0;34m(self, handle, fetches, feed_dict, options, run_metadata)\u001b[0m\n\u001b[1;32m   1126\u001b[0m     \u001b[0;32mif\u001b[0m \u001b[0mfinal_fetches\u001b[0m \u001b[0;32mor\u001b[0m \u001b[0mfinal_targets\u001b[0m \u001b[0;32mor\u001b[0m \u001b[0;34m(\u001b[0m\u001b[0mhandle\u001b[0m \u001b[0;32mand\u001b[0m \u001b[0mfeed_dict_tensor\u001b[0m\u001b[0;34m)\u001b[0m\u001b[0;34m:\u001b[0m\u001b[0;34m\u001b[0m\u001b[0m\n\u001b[1;32m   1127\u001b[0m       results = self._do_run(handle, final_targets, final_fetches,\n\u001b[0;32m-> 1128\u001b[0;31m                              feed_dict_tensor, options, run_metadata)\n\u001b[0m\u001b[1;32m   1129\u001b[0m     \u001b[0;32melse\u001b[0m\u001b[0;34m:\u001b[0m\u001b[0;34m\u001b[0m\u001b[0m\n\u001b[1;32m   1130\u001b[0m       \u001b[0mresults\u001b[0m \u001b[0;34m=\u001b[0m \u001b[0;34m[\u001b[0m\u001b[0;34m]\u001b[0m\u001b[0;34m\u001b[0m\u001b[0m\n",
      "\u001b[0;32m~/.conda/envs/py3-tf/lib/python3.5/site-packages/tensorflow/python/client/session.py\u001b[0m in \u001b[0;36m_do_run\u001b[0;34m(self, handle, target_list, fetch_list, feed_dict, options, run_metadata)\u001b[0m\n\u001b[1;32m   1342\u001b[0m     \u001b[0;32mif\u001b[0m \u001b[0mhandle\u001b[0m \u001b[0;32mis\u001b[0m \u001b[0;32mNone\u001b[0m\u001b[0;34m:\u001b[0m\u001b[0;34m\u001b[0m\u001b[0m\n\u001b[1;32m   1343\u001b[0m       return self._do_call(_run_fn, self._session, feeds, fetches, targets,\n\u001b[0;32m-> 1344\u001b[0;31m                            options, run_metadata)\n\u001b[0m\u001b[1;32m   1345\u001b[0m     \u001b[0;32melse\u001b[0m\u001b[0;34m:\u001b[0m\u001b[0;34m\u001b[0m\u001b[0m\n\u001b[1;32m   1346\u001b[0m       \u001b[0;32mreturn\u001b[0m \u001b[0mself\u001b[0m\u001b[0;34m.\u001b[0m\u001b[0m_do_call\u001b[0m\u001b[0;34m(\u001b[0m\u001b[0m_prun_fn\u001b[0m\u001b[0;34m,\u001b[0m \u001b[0mself\u001b[0m\u001b[0;34m.\u001b[0m\u001b[0m_session\u001b[0m\u001b[0;34m,\u001b[0m \u001b[0mhandle\u001b[0m\u001b[0;34m,\u001b[0m \u001b[0mfeeds\u001b[0m\u001b[0;34m,\u001b[0m \u001b[0mfetches\u001b[0m\u001b[0;34m)\u001b[0m\u001b[0;34m\u001b[0m\u001b[0m\n",
      "\u001b[0;32m~/.conda/envs/py3-tf/lib/python3.5/site-packages/tensorflow/python/client/session.py\u001b[0m in \u001b[0;36m_do_call\u001b[0;34m(self, fn, *args)\u001b[0m\n\u001b[1;32m   1361\u001b[0m         \u001b[0;32mexcept\u001b[0m \u001b[0mKeyError\u001b[0m\u001b[0;34m:\u001b[0m\u001b[0;34m\u001b[0m\u001b[0m\n\u001b[1;32m   1362\u001b[0m           \u001b[0;32mpass\u001b[0m\u001b[0;34m\u001b[0m\u001b[0m\n\u001b[0;32m-> 1363\u001b[0;31m       \u001b[0;32mraise\u001b[0m \u001b[0mtype\u001b[0m\u001b[0;34m(\u001b[0m\u001b[0me\u001b[0m\u001b[0;34m)\u001b[0m\u001b[0;34m(\u001b[0m\u001b[0mnode_def\u001b[0m\u001b[0;34m,\u001b[0m \u001b[0mop\u001b[0m\u001b[0;34m,\u001b[0m \u001b[0mmessage\u001b[0m\u001b[0;34m)\u001b[0m\u001b[0;34m\u001b[0m\u001b[0m\n\u001b[0m\u001b[1;32m   1364\u001b[0m \u001b[0;34m\u001b[0m\u001b[0m\n\u001b[1;32m   1365\u001b[0m   \u001b[0;32mdef\u001b[0m \u001b[0m_extend_graph\u001b[0m\u001b[0;34m(\u001b[0m\u001b[0mself\u001b[0m\u001b[0;34m)\u001b[0m\u001b[0;34m:\u001b[0m\u001b[0;34m\u001b[0m\u001b[0m\n",
      "\u001b[0;31mInvalidArgumentError\u001b[0m: You must feed a value for placeholder tensor 'Placeholder' with dtype string\n\t [[Node: Placeholder = Placeholder[dtype=DT_STRING, shape=[], _device=\"/job:localhost/replica:0/task:0/device:CPU:0\"]()]]\n\nCaused by op 'Placeholder', defined at:\n  File \"/home/wang/.conda/envs/py3-tf/lib/python3.5/runpy.py\", line 193, in _run_module_as_main\n    \"__main__\", mod_spec)\n  File \"/home/wang/.conda/envs/py3-tf/lib/python3.5/runpy.py\", line 85, in _run_code\n    exec(code, run_globals)\n  File \"/home/wang/.conda/envs/py3-tf/lib/python3.5/site-packages/ipykernel_launcher.py\", line 16, in <module>\n    app.launch_new_instance()\n  File \"/home/wang/.conda/envs/py3-tf/lib/python3.5/site-packages/traitlets/config/application.py\", line 658, in launch_instance\n    app.start()\n  File \"/home/wang/.conda/envs/py3-tf/lib/python3.5/site-packages/ipykernel/kernelapp.py\", line 505, in start\n    self.io_loop.start()\n  File \"/home/wang/.conda/envs/py3-tf/lib/python3.5/site-packages/tornado/platform/asyncio.py\", line 148, in start\n    self.asyncio_loop.run_forever()\n  File \"/home/wang/.conda/envs/py3-tf/lib/python3.5/asyncio/base_events.py\", line 421, in run_forever\n    self._run_once()\n  File \"/home/wang/.conda/envs/py3-tf/lib/python3.5/asyncio/base_events.py\", line 1425, in _run_once\n    handle._run()\n  File \"/home/wang/.conda/envs/py3-tf/lib/python3.5/asyncio/events.py\", line 127, in _run\n    self._callback(*self._args)\n  File \"/home/wang/.conda/envs/py3-tf/lib/python3.5/site-packages/tornado/ioloop.py\", line 690, in <lambda>\n    lambda f: self._run_callback(functools.partial(callback, future))\n  File \"/home/wang/.conda/envs/py3-tf/lib/python3.5/site-packages/tornado/ioloop.py\", line 743, in _run_callback\n    ret = callback()\n  File \"/home/wang/.conda/envs/py3-tf/lib/python3.5/site-packages/tornado/gen.py\", line 781, in inner\n    self.run()\n  File \"/home/wang/.conda/envs/py3-tf/lib/python3.5/site-packages/tornado/gen.py\", line 742, in run\n    yielded = self.gen.send(value)\n  File \"/home/wang/.conda/envs/py3-tf/lib/python3.5/site-packages/ipykernel/kernelbase.py\", line 357, in process_one\n    yield gen.maybe_future(dispatch(*args))\n  File \"/home/wang/.conda/envs/py3-tf/lib/python3.5/site-packages/tornado/gen.py\", line 209, in wrapper\n    yielded = next(result)\n  File \"/home/wang/.conda/envs/py3-tf/lib/python3.5/site-packages/ipykernel/kernelbase.py\", line 267, in dispatch_shell\n    yield gen.maybe_future(handler(stream, idents, msg))\n  File \"/home/wang/.conda/envs/py3-tf/lib/python3.5/site-packages/tornado/gen.py\", line 209, in wrapper\n    yielded = next(result)\n  File \"/home/wang/.conda/envs/py3-tf/lib/python3.5/site-packages/ipykernel/kernelbase.py\", line 534, in execute_request\n    user_expressions, allow_stdin,\n  File \"/home/wang/.conda/envs/py3-tf/lib/python3.5/site-packages/tornado/gen.py\", line 209, in wrapper\n    yielded = next(result)\n  File \"/home/wang/.conda/envs/py3-tf/lib/python3.5/site-packages/ipykernel/ipkernel.py\", line 294, in do_execute\n    res = shell.run_cell(code, store_history=store_history, silent=silent)\n  File \"/home/wang/.conda/envs/py3-tf/lib/python3.5/site-packages/ipykernel/zmqshell.py\", line 536, in run_cell\n    return super(ZMQInteractiveShell, self).run_cell(*args, **kwargs)\n  File \"/home/wang/.conda/envs/py3-tf/lib/python3.5/site-packages/IPython/core/interactiveshell.py\", line 2848, in run_cell\n    raw_cell, store_history, silent, shell_futures)\n  File \"/home/wang/.conda/envs/py3-tf/lib/python3.5/site-packages/IPython/core/interactiveshell.py\", line 2874, in _run_cell\n    return runner(coro)\n  File \"/home/wang/.conda/envs/py3-tf/lib/python3.5/site-packages/IPython/core/async_helpers.py\", line 67, in _pseudo_sync_runner\n    coro.send(None)\n  File \"/home/wang/.conda/envs/py3-tf/lib/python3.5/site-packages/IPython/core/interactiveshell.py\", line 3049, in run_cell_async\n    interactivity=interactivity, compiler=compiler, result=result)\n  File \"/home/wang/.conda/envs/py3-tf/lib/python3.5/site-packages/IPython/core/interactiveshell.py\", line 3214, in run_ast_nodes\n    if (yield from self.run_code(code, result)):\n  File \"/home/wang/.conda/envs/py3-tf/lib/python3.5/site-packages/IPython/core/interactiveshell.py\", line 3296, in run_code\n    exec(code_obj, self.user_global_ns, self.user_ns)\n  File \"<ipython-input-21-1c33a2542cfc>\", line 1, in <module>\n    handle = tf.placeholder(tf.string, shape=[])\n  File \"/home/wang/.conda/envs/py3-tf/lib/python3.5/site-packages/tensorflow/python/ops/array_ops.py\", line 1680, in placeholder\n    return gen_array_ops._placeholder(dtype=dtype, shape=shape, name=name)\n  File \"/home/wang/.conda/envs/py3-tf/lib/python3.5/site-packages/tensorflow/python/ops/gen_array_ops.py\", line 3141, in _placeholder\n    \"Placeholder\", dtype=dtype, shape=shape, name=name)\n  File \"/home/wang/.conda/envs/py3-tf/lib/python3.5/site-packages/tensorflow/python/framework/op_def_library.py\", line 787, in _apply_op_helper\n    op_def=op_def)\n  File \"/home/wang/.conda/envs/py3-tf/lib/python3.5/site-packages/tensorflow/python/framework/ops.py\", line 3160, in create_op\n    op_def=op_def)\n  File \"/home/wang/.conda/envs/py3-tf/lib/python3.5/site-packages/tensorflow/python/framework/ops.py\", line 1625, in __init__\n    self._traceback = self._graph._extract_stack()  # pylint: disable=protected-access\n\nInvalidArgumentError (see above for traceback): You must feed a value for placeholder tensor 'Placeholder' with dtype string\n\t [[Node: Placeholder = Placeholder[dtype=DT_STRING, shape=[], _device=\"/job:localhost/replica:0/task:0/device:CPU:0\"]()]]\n"
     ]
    }
   ],
   "source": [
    "with tf.Session() as sess:\n",
    "    M_conv2=sess.run(tf.shape(next_batch[0])[0])"
   ]
  },
  {
   "cell_type": "code",
   "execution_count": 25,
   "metadata": {},
   "outputs": [],
   "source": [
    "tr_iter = tr_dataset.make_one_shot_iterator() "
   ]
  },
  {
   "cell_type": "code",
   "execution_count": 27,
   "metadata": {},
   "outputs": [],
   "source": [
    "va_iter_list = [va.make_initializable_iterator() for va in va_dataset_list]"
   ]
  },
  {
   "cell_type": "code",
   "execution_count": 29,
   "metadata": {},
   "outputs": [],
   "source": [
    "is_training_ph = tf.placeholder(tf.bool, shape=(), name='is_training')"
   ]
  },
  {
   "cell_type": "code",
   "execution_count": 31,
   "metadata": {},
   "outputs": [],
   "source": [
    "psf = tf.constant(get_gauss_filter_weight(config.hm_ksize, config.hm_sigma)[:,:,None,None], dtype=tf.float32) \n",
    "global_step = tf.Variable(0, name='global_step', trainable=False)\n",
    "global_step2 = tf.Variable(0, name='global_step2', trainable=False)"
   ]
  },
  {
   "cell_type": "code",
   "execution_count": 36,
   "metadata": {},
   "outputs": [
    {
     "data": {
      "text/plain": [
       "16"
      ]
     },
     "execution_count": 36,
     "metadata": {},
     "output_type": "execute_result"
    }
   ],
   "source": [
    "config.crop_radius"
   ]
  },
  {
   "cell_type": "code",
   "execution_count": 37,
   "metadata": {},
   "outputs": [
    {
     "data": {
      "text/plain": [
       "32"
      ]
     },
     "execution_count": 37,
     "metadata": {},
     "output_type": "execute_result"
    }
   ],
   "source": [
    "config.patch_size"
   ]
  },
  {
   "cell_type": "code",
   "execution_count": 39,
   "metadata": {},
   "outputs": [
    {
     "data": {
      "text/plain": [
       "'rand_hard_sch'"
      ]
     },
     "execution_count": 39,
     "metadata": {},
     "output_type": "execute_result"
    }
   ],
   "source": [
    "mining_type = config.mining_type.lower()\n",
    "mining_type"
   ]
  },
  {
   "cell_type": "code",
   "execution_count": 40,
   "metadata": {},
   "outputs": [],
   "source": [
    "det_loss_type = config.det_loss.lower()\n",
    "desc_loss_type = config.desc_loss.lower()\n",
    "K = config.top_k"
   ]
  },
  {
   "cell_type": "code",
   "execution_count": 46,
   "metadata": {},
   "outputs": [
    {
     "data": {
      "text/plain": [
       "True"
      ]
     },
     "execution_count": 46,
     "metadata": {},
     "output_type": "execute_result"
    }
   ],
   "source": [
    "config.use_nms3d"
   ]
  },
  {
   "cell_type": "code",
   "execution_count": 47,
   "metadata": {},
   "outputs": [
    {
     "data": {
      "text/plain": [
       "32"
      ]
     },
     "execution_count": 47,
     "metadata": {},
     "output_type": "execute_result"
    }
   ],
   "source": [
    "config.hard_geom_thresh"
   ]
  }
 ],
 "metadata": {
  "kernelspec": {
   "display_name": "Python 3",
   "language": "python",
   "name": "python3"
  },
  "language_info": {
   "codemirror_mode": {
    "name": "ipython",
    "version": 3
   },
   "file_extension": ".py",
   "mimetype": "text/x-python",
   "name": "python",
   "nbconvert_exporter": "python",
   "pygments_lexer": "ipython3",
   "version": "3.7.3"
  }
 },
 "nbformat": 4,
 "nbformat_minor": 2
}
