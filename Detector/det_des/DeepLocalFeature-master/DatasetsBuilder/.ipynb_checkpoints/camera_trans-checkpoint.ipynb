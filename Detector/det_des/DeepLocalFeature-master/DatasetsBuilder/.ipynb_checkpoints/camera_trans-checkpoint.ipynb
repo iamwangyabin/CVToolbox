{
 "cells": [
  {
   "cell_type": "code",
   "execution_count": 1,
   "metadata": {},
   "outputs": [],
   "source": [
    "import os\n",
    "import sys\n",
    "import numpy as np\n",
    "import tensorflow as tf\n",
    "import importlib\n",
    "import time\n",
    "import cv2\n",
    "DATASET_PATH = '../dataset'\n",
    "if DATASET_PATH not in sys.path:\n",
    "    sys.path.append(DATASET_PATH)"
   ]
  },
  {
   "cell_type": "code",
   "execution_count": 4,
   "metadata": {},
   "outputs": [],
   "source": [
    "a = np.loadtxt('../dataset/scan/pose/0.txt')\n",
    "b = np.loadtxt('../dataset/scan/pose/15.txt')"
   ]
  },
  {
   "cell_type": "code",
   "execution_count": 52,
   "metadata": {},
   "outputs": [],
   "source": [
    "np.set_printoptions(suppress=True)"
   ]
  },
  {
   "cell_type": "code",
   "execution_count": 61,
   "metadata": {},
   "outputs": [],
   "source": [
    "def getC1TC2s(C1TW,C2TW):\n",
    "    C1TW_R = C1TW[:3,:3]\n",
    "    C2TW_R = C2TW[:3,:3]\n",
    "    C1TW_t = np.expand_dims(C1TW[:3,3], axis=1)\n",
    "    C2TW_t = np.expand_dims(C2TW[:3,3], axis=1)\n",
    "    ones=np.array([0.,0.,0.,1.])\n",
    "    R=(np.linalg.inv(C2TW_R)).dot(C1TW_R)\n",
    "    t=(np.linalg.inv(C2TW_R)).dot(C1TW_t-C2TW_t)\n",
    "    T=np.hstack((R,t))\n",
    "    T=np.vstack((T,ones))\n",
    "    T=np.linalg.inv(T)\n",
    "    return T"
   ]
  },
  {
   "cell_type": "code",
   "execution_count": 62,
   "metadata": {},
   "outputs": [],
   "source": [
    "T=getC1TC2s(b, a)"
   ]
  },
  {
   "cell_type": "code",
   "execution_count": 63,
   "metadata": {
    "scrolled": false
   },
   "outputs": [
    {
     "data": {
      "text/plain": [
       "array([[-0.,  0., -0.,  0.],\n",
       "       [ 0., -0., -0.,  0.],\n",
       "       [-0., -0.,  0.,  0.],\n",
       "       [ 0.,  0.,  0.,  0.]])"
      ]
     },
     "execution_count": 63,
     "metadata": {},
     "output_type": "execute_result"
    }
   ],
   "source": [
    "b.dot(T)-a"
   ]
  }
 ],
 "metadata": {
  "kernelspec": {
   "display_name": "Python 3",
   "language": "python",
   "name": "python3"
  },
  "language_info": {
   "codemirror_mode": {
    "name": "ipython",
    "version": 3
   },
   "file_extension": ".py",
   "mimetype": "text/x-python",
   "name": "python",
   "nbconvert_exporter": "python",
   "pygments_lexer": "ipython3",
   "version": "3.5.6"
  }
 },
 "nbformat": 4,
 "nbformat_minor": 2
}
