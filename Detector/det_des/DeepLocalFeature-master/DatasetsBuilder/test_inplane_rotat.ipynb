{
 "cells": [
  {
   "cell_type": "code",
   "execution_count": 9,
   "metadata": {},
   "outputs": [],
   "source": [
    "import numpy as np\n",
    "import math"
   ]
  },
  {
   "cell_type": "code",
   "execution_count": 2,
   "metadata": {},
   "outputs": [],
   "source": [
    "a = np.loadtxt('../dataset/scan/pose/0.txt')"
   ]
  },
  {
   "cell_type": "code",
   "execution_count": 7,
   "metadata": {},
   "outputs": [],
   "source": [
    "def logarithm_so3(R_mat):\n",
    "    SE3_ANGLE_APPROX_THRESH_PI = 1.0\n",
    "    SE3_ANGLE_APPROX_THRESH_ZERO = 0.03    \n",
    "    OneOver6 = 1.0/6.0\n",
    "    OneOver7 = 1.0/7.0\n",
    "    OneOver9 = 1.0/9.0\n",
    "    def A_approximation(theta2):\n",
    "        return 1.0 - theta2 * OneOver6 * (1.0 - 0.05 * theta2 * (1.0 - theta2 * OneOver6 * OneOver7))\n",
    "\n",
    "    trR = float(R_mat.trace().clip(-1.0, 3.0))\n",
    "    theta = math.acos((trR - 1.0) * 0.5)\n",
    "    ln_Rvec = np.empty(3, dtype=np.float32)\n",
    "    if theta > np.pi - SE3_ANGLE_APPROX_THRESH_PI:\n",
    "        R_diag = R_mat.diagonal()\n",
    "        a = int(R_diag.argmax())\n",
    "        b = (a+1) % 3\n",
    "        c = (a+2) % 3\n",
    "        s = math.sqrt(1.0 + R_diag[a]-R_diag[b]-R_diag[c])\n",
    "        ln_Rvec[a] = s * 0.5\n",
    "        ln_Rvec[b] = (R_mat[b,a] + R_mat[a,b]) * 0.5 / s\n",
    "        ln_Rvec[c] = (R_mat[c,a] + R_mat[a,c]) * 0.5 / s\n",
    "        vNorm = ln_Rvec.dot(ln_Rvec)\n",
    "        if vNorm != 0:\n",
    "            ln_Rvec /= vNorm\n",
    "        wNorm = (R_mat[c,b] - R_mat[b,c]) * 0.5 / s\n",
    "        ln_Rvec *= 2.0 * math.atan(vNorm/wNorm)\n",
    "    else:\n",
    "        theta2 = 0\n",
    "        A = 0\n",
    "        if theta > SE3_ANGLE_APPROX_THRESH_ZERO:\n",
    "            theta2 = theta * theta\n",
    "            A = math.sin(theta) / theta\n",
    "        else:\n",
    "            theta2 = R_mat[0,1] * R_mat[0,1] + R_mat[0,2] * R_mat[0,2] + R_mat[1,2] * R_mat[1,2]\n",
    "            A = A_approximation(theta2)\n",
    "        ln_R = (R_mat - R_mat.T) * 0.5 / A\n",
    "        ln_Rvec[0] = 0.5 * (ln_R[2,1] - ln_R[1,2])\n",
    "        ln_Rvec[1] = 0.5 * (ln_R[0,2] - ln_R[2,0])\n",
    "        ln_Rvec[2] = 0.5 * (ln_R[1,0] - ln_R[0,1])\n",
    "    return ln_Rvec    \n",
    "\n",
    "def get_inplane_rotation(R_mat):\n",
    "    rvec = logarithm_so3(R_mat)\n",
    "    zvec = np.array([0,0,1], dtype=np.float32)\n",
    "    rot_val = np.dot(rvec, zvec) # radian\n",
    "    return rot_val"
   ]
  },
  {
   "cell_type": "code",
   "execution_count": 6,
   "metadata": {},
   "outputs": [
    {
     "data": {
      "text/plain": [
       "array([[ 0.93874 ,  0.188266, -0.288657],\n",
       "       [ 0.344322, -0.547558,  0.762642],\n",
       "       [-0.014477, -0.815314, -0.578839]])"
      ]
     },
     "execution_count": 6,
     "metadata": {},
     "output_type": "execute_result"
    }
   ],
   "source": [
    "a[:3,:3]"
   ]
  },
  {
   "cell_type": "code",
   "execution_count": 10,
   "metadata": {},
   "outputs": [
    {
     "data": {
      "text/plain": [
       "0.22946559"
      ]
     },
     "execution_count": 10,
     "metadata": {},
     "output_type": "execute_result"
    }
   ],
   "source": [
    "get_inplane_rotation(a[:3,:3])"
   ]
  }
 ],
 "metadata": {
  "kernelspec": {
   "display_name": "Python 3",
   "language": "python",
   "name": "python3"
  },
  "language_info": {
   "codemirror_mode": {
    "name": "ipython",
    "version": 3
   },
   "file_extension": ".py",
   "mimetype": "text/x-python",
   "name": "python",
   "nbconvert_exporter": "python",
   "pygments_lexer": "ipython3",
   "version": "3.5.6"
  }
 },
 "nbformat": 4,
 "nbformat_minor": 2
}
