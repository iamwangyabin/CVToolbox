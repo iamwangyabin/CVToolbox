{
 "cells": [
  {
   "cell_type": "code",
   "execution_count": 1,
   "metadata": {},
   "outputs": [],
   "source": [
    "import torch\n",
    "import torch.nn as nn\n",
    "import torch.nn.functional as f\n",
    "# import torch.utils.data as data\n",
    "import torch.optim as optim\n",
    "from torch.autograd import Variable\n",
    "import torchvision\n",
    "import numpy as np\n",
    "import PIL \n",
    "\n",
    "import tensorflow as tf"
   ]
  },
  {
   "cell_type": "code",
   "execution_count": 2,
   "metadata": {},
   "outputs": [
    {
     "data": {
      "text/plain": [
       "5578"
      ]
     },
     "execution_count": 2,
     "metadata": {},
     "output_type": "execute_result"
    }
   ],
   "source": [
    "import os\n",
    "import sys\n",
    "\n",
    "MODEL_PATH = '../models'\n",
    "if MODEL_PATH not in sys.path:\n",
    "    sys.path.append(MODEL_PATH)\n",
    "\n",
    "in_dir='../dataset/color/'\n",
    "img_paths = [x.path for x in os.scandir(in_dir) if x.name.endswith('.jpg') or x.name.endswith('.png')]\n",
    "len(img_paths)"
   ]
  },
  {
   "cell_type": "code",
   "execution_count": 3,
   "metadata": {},
   "outputs": [
    {
     "data": {
      "text/plain": [
       "torch.Size([1, 3, 484, 648])"
      ]
     },
     "execution_count": 3,
     "metadata": {},
     "output_type": "execute_result"
    }
   ],
   "source": [
    "loader = torchvision.transforms.Compose([\n",
    "#     transforms.Scale(imsize), \n",
    "    torchvision.transforms.ToTensor()\n",
    "])\n",
    "\n",
    "def image_loader(image_name):\n",
    "    \"\"\"load image, returns cuda tensor\"\"\"\n",
    "    image = PIL.Image.open(image_name)\n",
    "    image = loader(image).float()\n",
    "    image = Variable(image, requires_grad=True)\n",
    "    image = image.unsqueeze(0)  #this is for VGG, may not be needed for ResNet\n",
    "    return image #assumes that you're using GPU\n",
    "\n",
    "image = image_loader(img_paths[0])\n",
    "image=torch.nn.functional.interpolate(image,(image.shape[2]//2, image.shape[3]//2)) # back to original resolution\n",
    "image.shape"
   ]
  },
  {
   "cell_type": "markdown",
   "metadata": {},
   "source": [
    "resnet的basicblock构造还有点问题，没有生成新的层"
   ]
  },
  {
   "cell_type": "code",
   "execution_count": 4,
   "metadata": {
    "scrolled": false
   },
   "outputs": [
    {
     "name": "stdout",
     "output_type": "stream",
     "text": [
      "0\n",
      "1\n",
      "2\n"
     ]
    }
   ],
   "source": [
    "import resnet_detector\n",
    "model = resnet_detector.DetectorModel()\n",
    "optimizer = optim.SGD(model.parameters(),lr=0.001)\n",
    "\n",
    "optimizer.zero_grad()\n",
    "score_maps_list,endpoints = model(image)"
   ]
  },
  {
   "cell_type": "markdown",
   "metadata": {},
   "source": [
    "# build_multi_scale_deep_detector_3DNMS"
   ]
  },
  {
   "cell_type": "code",
   "execution_count": 5,
   "metadata": {},
   "outputs": [],
   "source": [
    "photos=image\n",
    "batch_size = photos.shape[0]\n",
    "height = photos.shape[2]\n",
    "width = photos.shape[3]\n",
    "C = photos.shape[1]\n",
    "\n",
    "scale_factors = endpoints['scale_factors']\n",
    "scale_factors_tensor=torch.tensor(scale_factors)\n",
    "num_scale = len(score_maps_list)\n",
    "scale_logits = [None] * num_scale"
   ]
  },
  {
   "cell_type": "markdown",
   "metadata": {},
   "source": [
    "```\n",
    "def instance_normalization(inputs):\n",
    "    # normalize 0-means 1-variance in each sample (not take batch-axis)\n",
    "    inputs_dim = inputs.get_shape().ndims\n",
    "    # Epsilon to be used in the tf.nn.batch_normalization\n",
    "    var_eps = 1e-3    \n",
    "    if inputs_dim == 4:\n",
    "        moments_dims = [1,2] # NHWC format\n",
    "    elif inputs_dim == 2:\n",
    "        moments_dims = [1]\n",
    "    else:\n",
    "        raise ValueError('instance_normalization suppose input dim is 4: inputs_dim={}\\n'.format(inputs_dim))\n",
    "    mean, variance = tf.nn.moments(inputs, axes=moments_dims, keep_dims=True)\n",
    "    outputs = tf.nn.batch_normalization(inputs, mean, variance, None, None, var_eps) # non-parametric normalization\n",
    "    return outputs\n",
    "```\n",
    "================torch.nn.BatchNorm2d(1, eps=1e-06, momentum=None, affine=None, track_running_stats=None)"
   ]
  },
  {
   "cell_type": "code",
   "execution_count": 6,
   "metadata": {},
   "outputs": [],
   "source": [
    "instance_normalization=torch.nn.BatchNorm2d(1, eps=1e-06, momentum=None, affine=None, track_running_stats=None)\n",
    "for i in range(num_scale):\n",
    "    logits = instance_normalization(score_maps_list[i])\n",
    "    logits = torch.nn.functional.interpolate(score_maps_list[i],(height, width)) # back to original resolution\n",
    "    scale_logits[i] = logits\n",
    "scale_logits=torch.cat(scale_logits, dim=1) # [B,S,H,W]"
   ]
  },
  {
   "cell_type": "markdown",
   "metadata": {},
   "source": [
    "## soft_nms_3d(scale_logits, ksize, com_strength=1.0):\n",
    "    # apply softmax on scalespace logits\n",
    "    # scale_logits: [B,S,H,W]\n"
   ]
  },
  {
   "cell_type": "code",
   "execution_count": 8,
   "metadata": {},
   "outputs": [],
   "source": [
    "def soft_nms_3d(scale_logits, ksize, com_strength=1.0):\n",
    "    # apply softmax on scalespace logits\n",
    "    # scale_logits: [B,H,W,S]\n",
    "    num_scales =scale_logits.shape[1]\n",
    "    # [B,S,H,W] -> (B,C,S,H,W)--batch size , channel \n",
    "    \n",
    "    scale_logits_d=scale_logits[...,None].permute(0,4,1,2,3) # [B,S,H,W,1] in order to apply pool3d\n",
    "    maxpool3d=torch.nn.MaxPool3d((num_scales, ksize, ksize),stride=(num_scales, 1, 1),padding=(0,(ksize-1)//2,(ksize-1)//2),dilation=1)\n",
    "    max_maps=maxpool3d(scale_logits_d)\n",
    "    max_maps = max_maps.squeeze(1) # (B,C,S,H,W) -> [B,S,H,W]\n",
    "    exp_maps = torch.exp(com_strength * (scale_logits-max_maps))\n",
    "    \n",
    "    exp_maps_d=exp_maps[...,None].permute(0,4,1,2,3)\n",
    "    conv3d=torch.nn.Conv3d(1, 1, (num_scales,ksize,ksize), stride=(num_scales, 1, 1), padding=(0,(ksize-1)//2,(ksize-1)//2), dilation=1,  bias=False)\n",
    "    sum_ex=conv3d(exp_maps_d)\n",
    "    sum_ex = sum_ex.squeeze(1)\n",
    "    probs = exp_maps / (sum_ex + 1e-6)  \n",
    "\n",
    "    return probs"
   ]
  },
  {
   "cell_type": "code",
   "execution_count": 9,
   "metadata": {},
   "outputs": [],
   "source": [
    "scale_heatmaps = soft_nms_3d(scale_logits, ksize=15, com_strength=3)"
   ]
  },
  {
   "cell_type": "code",
   "execution_count": 10,
   "metadata": {},
   "outputs": [
    {
     "data": {
      "text/plain": [
       "torch.Size([1, 3, 484, 648])"
      ]
     },
     "execution_count": 10,
     "metadata": {},
     "output_type": "execute_result"
    }
   ],
   "source": [
    "scale_heatmaps.shape"
   ]
  },
  {
   "cell_type": "markdown",
   "metadata": {},
   "source": [
    "## soft_max_and_argmax_1d\n",
    "(inputs, axis=-1, inputs_index=None, keep_dims=False, com_strength1=250.0, com_strength2=250.0)"
   ]
  },
  {
   "cell_type": "code",
   "execution_count": 11,
   "metadata": {},
   "outputs": [],
   "source": [
    "def soft_max_and_argmax_1d(inputs, axis=2, inputs_index=None, keep_dims=False, com_strength1=250.0, com_strength2=250.0):\n",
    "    # Safe softmax\n",
    "    inputs_max,_=torch.max(inputs, dim=axis, keepdim=keep_dims, out=None)\n",
    "    inputs_exp1 = torch.exp(com_strength1*(inputs - inputs_max))\n",
    "    inputs_softmax1_max,_=torch.max(inputs_exp1, dim=axis, keepdim=keep_dims, out=None)\n",
    "    inputs_softmax1 = inputs_exp1 / (inputs_softmax1_max + 1e-8)\n",
    "\n",
    "    inputs_exp2 = torch.exp(com_strength2*(inputs - inputs_max))\n",
    "    inputs_softmax2_max,_=torch.max(inputs_exp2, dim=axis, keepdim=keep_dims, out=None)\n",
    "    inputs_softmax2 = inputs_exp2 / (inputs_softmax2_max + 1e-8)\n",
    "\n",
    "    inputs_max,_=torch.max(inputs * inputs_softmax1, dim=axis, keepdim=keep_dims, out=None)\n",
    "    \n",
    "    inputs_index_shp = [1,]*(len(inputs.shape)-1)\n",
    "    inputs_index_shp[axis] = -1\n",
    "    if inputs_index is None:\n",
    "        inputs_index = torch.arange(inputs.shape[axis],dtype=inputs.dtype) # use 0,1,2,..,inputs.shape[axis]-1\n",
    "    inputs_index = inputs_index.view(1,-1,1).squeeze().unsqueeze(0).unsqueeze(-1).unsqueeze(-1)\n",
    "    inputs_amax = torch.sum(inputs_index.float() * inputs_softmax2, dim=axis, keepdim=keep_dims)\n",
    "    \n",
    "    return inputs_max, inputs_amax,inputs_softmax2"
   ]
  },
  {
   "cell_type": "code",
   "execution_count": 12,
   "metadata": {},
   "outputs": [],
   "source": [
    "max_heatmaps, max_scales,inputs_softmax2 = soft_max_and_argmax_1d(scale_heatmaps, axis=1, \n",
    "                                    inputs_index=scale_factors_tensor, keep_dims=False,\n",
    "                                    com_strength1=100,\n",
    "                                    com_strength2=100) # both output = [B,H,W]"
   ]
  },
  {
   "cell_type": "code",
   "execution_count": 13,
   "metadata": {
    "scrolled": true
   },
   "outputs": [
    {
     "data": {
      "text/plain": [
       "torch.Size([1, 484, 648])"
      ]
     },
     "execution_count": 13,
     "metadata": {},
     "output_type": "execute_result"
    }
   ],
   "source": [
    "max_heatmaps.shape"
   ]
  },
  {
   "cell_type": "code",
   "execution_count": 14,
   "metadata": {
    "scrolled": true
   },
   "outputs": [
    {
     "data": {
      "text/plain": [
       "torch.Size([1, 1, 484, 648])"
      ]
     },
     "execution_count": 14,
     "metadata": {},
     "output_type": "execute_result"
    }
   ],
   "source": [
    "max_heatmaps = max_heatmaps[..., None].permute(0,3,1,2)\n",
    "max_heatmaps.shape"
   ]
  },
  {
   "cell_type": "code",
   "execution_count": 15,
   "metadata": {},
   "outputs": [],
   "source": [
    "def end_of_frame_masks(height, width, radius, dtype=torch.float32):\n",
    "    eof_masks = torch.ones([1,1,height-2*radius,width-2*radius], dtype=torch.float32)\n",
    "    m = nn.ConstantPad2d(radius, 0)\n",
    "    eof_masks = m(eof_masks)\n",
    "    return eof_masks"
   ]
  },
  {
   "cell_type": "code",
   "execution_count": 16,
   "metadata": {},
   "outputs": [
    {
     "data": {
      "text/plain": [
       "8"
      ]
     },
     "execution_count": 16,
     "metadata": {},
     "output_type": "execute_result"
    }
   ],
   "source": [
    "endpoints['pad_size'] = 8 * (3//2)\n",
    "endpoints['pad_size']"
   ]
  },
  {
   "cell_type": "markdown",
   "metadata": {},
   "source": [
    "现在要做的是把边缘裁剪掉，可能有两个原因：\n",
    "    一是边缘不容易生成patch\n",
    "    二是前面padding操作对边缘可能不好影响"
   ]
  },
  {
   "cell_type": "code",
   "execution_count": 17,
   "metadata": {
    "scrolled": true
   },
   "outputs": [
    {
     "data": {
      "text/plain": [
       "torch.Size([1, 1, 484, 648])"
      ]
     },
     "execution_count": 17,
     "metadata": {},
     "output_type": "execute_result"
    }
   ],
   "source": [
    "eof_masks_pad = end_of_frame_masks(height, width, endpoints['pad_size'])\n",
    "eof_masks_pad.shape"
   ]
  },
  {
   "cell_type": "code",
   "execution_count": 18,
   "metadata": {},
   "outputs": [],
   "source": [
    "max_heatmaps = max_heatmaps * eof_masks_pad"
   ]
  },
  {
   "cell_type": "markdown",
   "metadata": {},
   "source": [
    "## Extract Top-K keypoints"
   ]
  },
  {
   "cell_type": "code",
   "execution_count": 19,
   "metadata": {},
   "outputs": [
    {
     "data": {
      "text/plain": [
       "torch.Size([1, 1, 484, 648])"
      ]
     },
     "execution_count": 19,
     "metadata": {},
     "output_type": "execute_result"
    }
   ],
   "source": [
    "eof_masks_crop = end_of_frame_masks(height, width, 16)\n",
    "eof_masks_crop.shape"
   ]
  },
  {
   "cell_type": "markdown",
   "metadata": {},
   "source": [
    "### non_max_suppression  \n",
    "函数主要思想感觉是非极大抑制，首先在input上padding出来一圈0（kernal大小），然后在左上角抖动产生ksize×ksize个子窗口，只有kernalsize大小的极大值才能被选中"
   ]
  },
  {
   "cell_type": "code",
   "execution_count": 20,
   "metadata": {},
   "outputs": [],
   "source": [
    "def non_max_suppression(inputs, thresh=0.0, ksize=3, dtype=torch.float32):\n",
    "    dtype = inputs.dtype\n",
    "    batch = inputs.shape[0]\n",
    "    height = inputs.shape[2]\n",
    "    width = inputs.shape[3]\n",
    "    channel = inputs.shape[1]\n",
    "    hk = ksize // 2\n",
    "    zeros = torch.zeros_like(inputs)\n",
    "    works = torch.where(inputs<thresh,zeros,inputs)\n",
    "    m = nn.ConstantPad2d(2*hk, 0)\n",
    "    works_pad = m(works)\n",
    "    map_augs = []\n",
    "    for i in range(ksize):\n",
    "        for j in range(ksize):\n",
    "            curr_in = works_pad[:,:,i:i+height+2*hk,j:j+width+2*hk]\n",
    "            map_augs.append(curr_in)\n",
    "\n",
    "    num_map = len(map_augs) # ksize*ksize\n",
    "    center_map = map_augs[num_map//2]\n",
    "    peak_mask = center_map > map_augs[0]\n",
    "    for n in range(1, num_map):\n",
    "        if n == num_map // 2:\n",
    "            continue\n",
    "        peak_mask = peak_mask & (center_map > map_augs[n])\n",
    "    peak_mask = peak_mask[:,:,hk:height+hk,hk:width+hk]\n",
    "    \n",
    "#     peak_mask.set_shape(inputs.shape) # keep shape information\n",
    "    return peak_mask\n"
   ]
  },
  {
   "cell_type": "code",
   "execution_count": 21,
   "metadata": {},
   "outputs": [],
   "source": [
    "nms_maps = non_max_suppression(max_heatmaps, 0, 5)\n",
    "# print(max_heatmaps.dtype)\n",
    "# print(nms_maps.dtype)\n",
    "# print(eof_masks_crop.dtype)\n",
    "\n",
    "nms_scores = max_heatmaps * nms_maps.float() * eof_masks_crop\n",
    "# nms_scores[0][0][200]"
   ]
  },
  {
   "cell_type": "code",
   "execution_count": 22,
   "metadata": {},
   "outputs": [],
   "source": [
    "def make_top_k_sparse_tensor(heatmaps, k=256, get_kpts=False):\n",
    "    batch_size = heatmaps.shape[0]\n",
    "    height = heatmaps.shape[2]\n",
    "    width = heatmaps.shape[3]\n",
    "    channel = heatmaps.shape[1]\n",
    "    \n",
    "    def sparse_to_dense(indices, out_shape):\n",
    "        O = torch.zeros(out_shape)\n",
    "        for i, p in enumerate(indices):\n",
    "            O[p] = 1\n",
    "        return O\n",
    "    \n",
    "    heatmaps_flt = heatmaps.reshape([batch_size, -1])\n",
    "    imsize = heatmaps_flt.shape[1]\n",
    "\n",
    "    values, xy_indices=torch.topk(heatmaps_flt, k=k, dim=1, largest=True, sorted=False)     \n",
    "    boffset = (torch.arange(0,batch_size) * imsize).unsqueeze(1)\n",
    "    indices = xy_indices + boffset\n",
    "    indices = indices.reshape([-1])\n",
    "    top_k_maps = sparse_to_dense(indices,[batch_size*imsize])\n",
    "    top_k_maps = top_k_maps.reshape([batch_size, 1, height, width])\n",
    "    top_k_maps.float()\n",
    "    if get_kpts:\n",
    "#         kpx = tf.mod(xy_indices, width)\n",
    "#         kpy = xy_indices // width\n",
    "#         batch_inds = tf.tile(tf.range(batch_size, dtype=tf.int32)[:,None], [1,k])\n",
    "#         kpts = tf.concat([tf.reshape(kpx, [-1,1]), tf.reshape(kpy, [-1,1])], axis=1) # B*K,2\n",
    "#         batch_inds = tf.reshape(batch_inds, [-1])\n",
    "#         num_kpts = tf.ones([batch_size], dtype=tf.int32) * k\n",
    "#         return top_k_maps, kpts, batch_inds, num_kpts\n",
    "        pass\n",
    "    else:\n",
    "        return top_k_maps "
   ]
  },
  {
   "cell_type": "code",
   "execution_count": 331,
   "metadata": {
    "scrolled": true
   },
   "outputs": [],
   "source": [
    "top_ks = make_top_k_sparse_tensor(nms_scores, k=256)\n",
    "# top_ks.dtype\n",
    "top_ks = top_ks * nms_maps.float() # 这一步感觉没任何意义\n",
    "top_ks = top_ks.requires_grad_(False)\n",
    "\n",
    "ori_maps = endpoints['ori_maps']"
   ]
  },
  {
   "cell_type": "code",
   "execution_count": 302,
   "metadata": {},
   "outputs": [],
   "source": [
    "def extract_keypoints(top_k):\n",
    "    coords=[]\n",
    "#     batch_inds=top_k.shape[0]\n",
    "    batch_inds,_,_,_=np.where(top_ks.numpy()>0)\n",
    "    num_kpts=[]\n",
    "    for batch in range(top_k.shape[0]):\n",
    "        _,x,y=np.where(top_ks[batch].numpy()>0)\n",
    "        for i,j in zip(x,y):\n",
    "            coords.append([i,j])\n",
    "        num_kpts.append(len(x))\n",
    "    coords=np.array(coords)\n",
    "    num_kpts = torch.tensor(num_kpts)\n",
    "    kpts=torch.from_numpy(coords)\n",
    "#     batch_inds=len(batch_inds)\n",
    "    # kpts: [N,2] (N=B*K)\n",
    "    # batch_inds: N,\n",
    "    # num_kpts: B\n",
    "    return kpts, batch_inds, num_kpts"
   ]
  },
  {
   "cell_type": "code",
   "execution_count": 303,
   "metadata": {},
   "outputs": [],
   "source": [
    "kpts, batch_inds, num_kpts = extract_keypoints(top_ks)"
   ]
  },
  {
   "cell_type": "code",
   "execution_count": 248,
   "metadata": {},
   "outputs": [
    {
     "data": {
      "text/plain": [
       "torch.Size([256, 2])"
      ]
     },
     "execution_count": 248,
     "metadata": {},
     "output_type": "execute_result"
    }
   ],
   "source": [
    "kpts.shape"
   ]
  },
  {
   "cell_type": "code",
   "execution_count": 306,
   "metadata": {},
   "outputs": [
    {
     "data": {
      "text/plain": [
       "(256,)"
      ]
     },
     "execution_count": 306,
     "metadata": {},
     "output_type": "execute_result"
    }
   ],
   "source": [
    "batch_inds[:None].shape"
   ]
  },
  {
   "cell_type": "code",
   "execution_count": 257,
   "metadata": {},
   "outputs": [
    {
     "data": {
      "text/plain": [
       "tensor([256])"
      ]
     },
     "execution_count": 257,
     "metadata": {},
     "output_type": "execute_result"
    }
   ],
   "source": [
    "num_kpts"
   ]
  },
  {
   "cell_type": "code",
   "execution_count": 361,
   "metadata": {},
   "outputs": [],
   "source": [
    "def batch_gather_keypoints(inputs, batch_inds, kpts, xy_order=True):\n",
    "    # kpts: [N,2] x,y or y,x\n",
    "    # batch_inds: [N]\n",
    "    # outputs = inputs[b,y,x]\n",
    "    output=[]\n",
    "    if xy_order:\n",
    "        kp_x, kp_y = np.array_split(kpts.numpy(), 2,axis=1)\n",
    "    else:\n",
    "        kp_y, kp_x = np.array_split(kpts.numpy(), 2,axis=1)\n",
    "    batch_inds = batch_inds[:,None]\n",
    "    byx = torch.cat([torch.from_numpy(batch_inds), torch.from_numpy(kp_x), torch.from_numpy(kp_y)], dim=1)\n",
    "    for i,j,k in byx:\n",
    "        temp=inputs[int(i)][int(j)][int(k)]\n",
    "        output.append(temp.data)\n",
    "    return output\n"
   ]
  },
  {
   "cell_type": "code",
   "execution_count": 362,
   "metadata": {
    "scrolled": true
   },
   "outputs": [
    {
     "data": {
      "text/plain": [
       "[tensor(1.),\n",
       " tensor(1.),\n",
       " tensor(0.3536),\n",
       " tensor(0.1250),\n",
       " tensor(0.3536),\n",
       " tensor(1.),\n",
       " tensor(0.3536),\n",
       " tensor(0.3536),\n",
       " tensor(1.),\n",
       " tensor(1.),\n",
       " tensor(0.3536),\n",
       " tensor(0.3536),\n",
       " tensor(1.),\n",
       " tensor(1.),\n",
       " tensor(1.),\n",
       " tensor(0.1250),\n",
       " tensor(0.1250),\n",
       " tensor(0.1250),\n",
       " tensor(1.),\n",
       " tensor(1.),\n",
       " tensor(0.1250),\n",
       " tensor(0.3536),\n",
       " tensor(0.3536),\n",
       " tensor(0.1250),\n",
       " tensor(0.1250),\n",
       " tensor(0.3536),\n",
       " tensor(0.1250),\n",
       " tensor(1.),\n",
       " tensor(0.3536),\n",
       " tensor(0.3536),\n",
       " tensor(0.3536),\n",
       " tensor(0.3536),\n",
       " tensor(0.1250),\n",
       " tensor(1.),\n",
       " tensor(0.1250),\n",
       " tensor(0.1250),\n",
       " tensor(1.),\n",
       " tensor(0.1250),\n",
       " tensor(1.),\n",
       " tensor(0.1250),\n",
       " tensor(0.3536),\n",
       " tensor(0.1250),\n",
       " tensor(0.1250),\n",
       " tensor(0.3536),\n",
       " tensor(0.1250),\n",
       " tensor(0.1250),\n",
       " tensor(0.1250),\n",
       " tensor(1.),\n",
       " tensor(0.1250),\n",
       " tensor(0.1250),\n",
       " tensor(1.),\n",
       " tensor(0.3536),\n",
       " tensor(0.3536),\n",
       " tensor(0.1250),\n",
       " tensor(0.1250),\n",
       " tensor(1.),\n",
       " tensor(0.1250),\n",
       " tensor(1.),\n",
       " tensor(0.1250),\n",
       " tensor(0.3536),\n",
       " tensor(1.),\n",
       " tensor(1.),\n",
       " tensor(0.1250),\n",
       " tensor(0.3536),\n",
       " tensor(1.),\n",
       " tensor(0.1250),\n",
       " tensor(0.3536),\n",
       " tensor(1.),\n",
       " tensor(0.1250),\n",
       " tensor(1.),\n",
       " tensor(0.3536),\n",
       " tensor(0.1250),\n",
       " tensor(0.3536),\n",
       " tensor(0.3536),\n",
       " tensor(0.3536),\n",
       " tensor(1.),\n",
       " tensor(0.1250),\n",
       " tensor(0.1250),\n",
       " tensor(1.),\n",
       " tensor(0.1250),\n",
       " tensor(1.),\n",
       " tensor(1.),\n",
       " tensor(1.),\n",
       " tensor(0.1250),\n",
       " tensor(1.),\n",
       " tensor(0.3536),\n",
       " tensor(0.3536),\n",
       " tensor(0.1250),\n",
       " tensor(0.3536),\n",
       " tensor(0.1250),\n",
       " tensor(0.1250),\n",
       " tensor(1.),\n",
       " tensor(0.3536),\n",
       " tensor(1.),\n",
       " tensor(0.3536),\n",
       " tensor(0.1250),\n",
       " tensor(0.1250),\n",
       " tensor(1.),\n",
       " tensor(0.1250),\n",
       " tensor(1.),\n",
       " tensor(0.3536),\n",
       " tensor(1.),\n",
       " tensor(1.),\n",
       " tensor(1.),\n",
       " tensor(1.),\n",
       " tensor(0.1250),\n",
       " tensor(1.),\n",
       " tensor(0.3536),\n",
       " tensor(0.1250),\n",
       " tensor(1.),\n",
       " tensor(1.),\n",
       " tensor(1.),\n",
       " tensor(1.),\n",
       " tensor(1.),\n",
       " tensor(0.1250),\n",
       " tensor(1.),\n",
       " tensor(0.1250),\n",
       " tensor(0.1250),\n",
       " tensor(0.3536),\n",
       " tensor(0.3536),\n",
       " tensor(1.),\n",
       " tensor(0.1250),\n",
       " tensor(0.1250),\n",
       " tensor(0.3536),\n",
       " tensor(0.1250),\n",
       " tensor(0.1250),\n",
       " tensor(0.1250),\n",
       " tensor(1.),\n",
       " tensor(1.),\n",
       " tensor(0.1250),\n",
       " tensor(1.),\n",
       " tensor(0.3536),\n",
       " tensor(1.),\n",
       " tensor(0.3536),\n",
       " tensor(1.),\n",
       " tensor(0.1250),\n",
       " tensor(0.1250),\n",
       " tensor(0.1250),\n",
       " tensor(1.),\n",
       " tensor(1.),\n",
       " tensor(0.1250),\n",
       " tensor(0.3536),\n",
       " tensor(0.3536),\n",
       " tensor(0.1250),\n",
       " tensor(0.1250),\n",
       " tensor(1.),\n",
       " tensor(0.1250),\n",
       " tensor(0.1250),\n",
       " tensor(0.1250),\n",
       " tensor(1.),\n",
       " tensor(0.1250),\n",
       " tensor(0.3536),\n",
       " tensor(0.3536),\n",
       " tensor(1.),\n",
       " tensor(1.),\n",
       " tensor(0.1250),\n",
       " tensor(0.1250),\n",
       " tensor(0.3536),\n",
       " tensor(0.3536),\n",
       " tensor(1.),\n",
       " tensor(0.1250),\n",
       " tensor(0.1250),\n",
       " tensor(1.),\n",
       " tensor(0.3536),\n",
       " tensor(0.1250),\n",
       " tensor(0.3536),\n",
       " tensor(0.3536),\n",
       " tensor(1.),\n",
       " tensor(1.),\n",
       " tensor(0.1250),\n",
       " tensor(0.1250),\n",
       " tensor(0.1250),\n",
       " tensor(0.3536),\n",
       " tensor(1.),\n",
       " tensor(0.1250),\n",
       " tensor(1.),\n",
       " tensor(1.),\n",
       " tensor(0.1250),\n",
       " tensor(0.1250),\n",
       " tensor(0.1250),\n",
       " tensor(0.1250),\n",
       " tensor(0.1250),\n",
       " tensor(1.),\n",
       " tensor(0.1250),\n",
       " tensor(0.1250),\n",
       " tensor(0.3536),\n",
       " tensor(1.),\n",
       " tensor(0.3536),\n",
       " tensor(1.),\n",
       " tensor(1.),\n",
       " tensor(0.1250),\n",
       " tensor(1.),\n",
       " tensor(1.),\n",
       " tensor(1.),\n",
       " tensor(1.),\n",
       " tensor(0.3536),\n",
       " tensor(1.),\n",
       " tensor(0.3536),\n",
       " tensor(1.),\n",
       " tensor(0.3536),\n",
       " tensor(0.3536),\n",
       " tensor(1.),\n",
       " tensor(1.),\n",
       " tensor(0.3536),\n",
       " tensor(0.1250),\n",
       " tensor(0.3536),\n",
       " tensor(0.1250),\n",
       " tensor(0.1250),\n",
       " tensor(0.3536),\n",
       " tensor(0.3536),\n",
       " tensor(1.),\n",
       " tensor(0.3536),\n",
       " tensor(0.1250),\n",
       " tensor(1.),\n",
       " tensor(1.),\n",
       " tensor(0.3536),\n",
       " tensor(0.1250),\n",
       " tensor(0.1250),\n",
       " tensor(0.3536),\n",
       " tensor(0.1250),\n",
       " tensor(1.),\n",
       " tensor(0.1250),\n",
       " tensor(0.1250),\n",
       " tensor(1.),\n",
       " tensor(0.1250),\n",
       " tensor(0.3536),\n",
       " tensor(0.1250),\n",
       " tensor(0.1250),\n",
       " tensor(0.1250),\n",
       " tensor(1.),\n",
       " tensor(0.3536),\n",
       " tensor(0.3536),\n",
       " tensor(1.),\n",
       " tensor(0.3536),\n",
       " tensor(0.1250),\n",
       " tensor(1.),\n",
       " tensor(0.3536),\n",
       " tensor(0.3536),\n",
       " tensor(0.3536),\n",
       " tensor(0.1250),\n",
       " tensor(0.1250),\n",
       " tensor(0.1250),\n",
       " tensor(0.1250),\n",
       " tensor(0.3536),\n",
       " tensor(0.3536),\n",
       " tensor(1.),\n",
       " tensor(1.),\n",
       " tensor(0.3536),\n",
       " tensor(0.3536),\n",
       " tensor(0.3536),\n",
       " tensor(0.1250),\n",
       " tensor(1.),\n",
       " tensor(1.),\n",
       " tensor(1.),\n",
       " tensor(0.3536),\n",
       " tensor(0.3536)]"
      ]
     },
     "execution_count": 362,
     "metadata": {},
     "output_type": "execute_result"
    }
   ],
   "source": [
    "kpts_scale = batch_gather_keypoints(max_scales, batch_inds, kpts)\n",
    "kpts_scale"
   ]
  },
  {
   "cell_type": "code",
   "execution_count": 316,
   "metadata": {},
   "outputs": [
    {
     "data": {
      "text/plain": [
       "8939"
      ]
     },
     "execution_count": 316,
     "metadata": {},
     "output_type": "execute_result"
    }
   ],
   "source": [
    "import gc\n",
    "gc.collect()"
   ]
  }
 ],
 "metadata": {
  "kernelspec": {
   "display_name": "Python 3",
   "language": "python",
   "name": "python3"
  },
  "language_info": {
   "codemirror_mode": {
    "name": "ipython",
    "version": 3
   },
   "file_extension": ".py",
   "mimetype": "text/x-python",
   "name": "python",
   "nbconvert_exporter": "python",
   "pygments_lexer": "ipython3",
   "version": "3.7.1"
  }
 },
 "nbformat": 4,
 "nbformat_minor": 2
}
