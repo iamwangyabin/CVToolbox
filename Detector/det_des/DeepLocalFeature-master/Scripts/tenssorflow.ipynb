{
 "cells": [
  {
   "cell_type": "code",
   "execution_count": 1,
   "metadata": {},
   "outputs": [],
   "source": [
    "import tensorflow as tf\n",
    "import numpy as np"
   ]
  },
  {
   "cell_type": "code",
   "execution_count": 2,
   "metadata": {},
   "outputs": [],
   "source": [
    "v3 = tf.range(100.0)"
   ]
  },
  {
   "cell_type": "code",
   "execution_count": 3,
   "metadata": {},
   "outputs": [],
   "source": [
    "v3=tf.reshape(v3, [1,5,5,4], name=None)"
   ]
  },
  {
   "cell_type": "code",
   "execution_count": 4,
   "metadata": {
    "scrolled": false
   },
   "outputs": [
    {
     "name": "stdout",
     "output_type": "stream",
     "text": [
      "[4. 5. 6. 7.]\n"
     ]
    }
   ],
   "source": [
    "with tf.Session() as sess:\n",
    "    print(sess.run(v3[0][0][1]))\n",
    "#     print(sess.run(output))"
   ]
  },
  {
   "cell_type": "code",
   "execution_count": 41,
   "metadata": {
    "scrolled": true
   },
   "outputs": [
    {
     "data": {
      "text/plain": [
       "[1, 1, 1, 1]"
      ]
     },
     "execution_count": 41,
     "metadata": {},
     "output_type": "execute_result"
    }
   ],
   "source": [
    "[1,]*len(v3.get_shape())"
   ]
  },
  {
   "cell_type": "code",
   "execution_count": 45,
   "metadata": {},
   "outputs": [
    {
     "data": {
      "text/plain": [
       "<tf.Tensor 'Reshape_5:0' shape=(1, 1, 1, 4) dtype=float32>"
      ]
     },
     "execution_count": 45,
     "metadata": {},
     "output_type": "execute_result"
    }
   ],
   "source": [
    "tf.reshape(v3[0][0][1], [1, 1, 1, -1])"
   ]
  },
  {
   "cell_type": "code",
   "execution_count": 17,
   "metadata": {},
   "outputs": [],
   "source": [
    "scale_logits_d = tf.transpose(v3[...,None], [0,3,1,2,4])"
   ]
  },
  {
   "cell_type": "code",
   "execution_count": 22,
   "metadata": {},
   "outputs": [],
   "source": [
    "ksize=3\n",
    "max_maps = tf.nn.max_pool3d(scale_logits_d, [1,num_scales,ksize,ksize,1], [1,num_scales,1,1,1], padding='SAME')"
   ]
  },
  {
   "cell_type": "code",
   "execution_count": 36,
   "metadata": {},
   "outputs": [
    {
     "data": {
      "text/plain": [
       "1"
      ]
     },
     "execution_count": 36,
     "metadata": {},
     "output_type": "execute_result"
    }
   ],
   "source": [
    "max_maps.get_shape().as_list()[-1]"
   ]
  },
  {
   "cell_type": "code",
   "execution_count": 37,
   "metadata": {},
   "outputs": [
    {
     "data": {
      "text/plain": [
       "<tf.Tensor 'Reshape_4:0' shape=(1, 100, 1, 1) dtype=float32>"
      ]
     },
     "execution_count": 37,
     "metadata": {},
     "output_type": "execute_result"
    }
   ],
   "source": [
    "tf.reshape(v3, [1,-1,1,1,])"
   ]
  },
  {
   "cell_type": "code",
   "execution_count": 32,
   "metadata": {},
   "outputs": [
    {
     "name": "stdout",
     "output_type": "stream",
     "text": [
      "[[[[ 3.]\n",
      "   [ 7.]\n",
      "   [11.]\n",
      "   [15.]\n",
      "   [19.]]\n",
      "\n",
      "  [[23.]\n",
      "   [27.]\n",
      "   [31.]\n",
      "   [35.]\n",
      "   [39.]]\n",
      "\n",
      "  [[43.]\n",
      "   [47.]\n",
      "   [51.]\n",
      "   [55.]\n",
      "   [59.]]\n",
      "\n",
      "  [[63.]\n",
      "   [67.]\n",
      "   [71.]\n",
      "   [75.]\n",
      "   [79.]]\n",
      "\n",
      "  [[83.]\n",
      "   [87.]\n",
      "   [91.]\n",
      "   [95.]\n",
      "   [99.]]]]\n"
     ]
    },
    {
     "data": {
      "text/plain": [
       "TensorShape([Dimension(1), Dimension(5), Dimension(5), Dimension(1)])"
      ]
     },
     "execution_count": 32,
     "metadata": {},
     "output_type": "execute_result"
    }
   ],
   "source": [
    "a=tf.reduce_max(v3, axis=3, keep_dims=True)\n",
    "with tf.Session() as sess:\n",
    "    print(sess.run(a))\n",
    "a.shape"
   ]
  },
  {
   "cell_type": "code",
   "execution_count": null,
   "metadata": {},
   "outputs": [],
   "source": []
  },
  {
   "cell_type": "code",
   "execution_count": 31,
   "metadata": {},
   "outputs": [],
   "source": [
    "mean, variance = tf.nn.moments(v3, axes=[2,3], keep_dims=True)"
   ]
  },
  {
   "cell_type": "code",
   "execution_count": 32,
   "metadata": {},
   "outputs": [],
   "source": [
    "outputs = tf.nn.batch_normalization(v3, mean, variance, None, None, 1e-6)"
   ]
  },
  {
   "cell_type": "code",
   "execution_count": 35,
   "metadata": {},
   "outputs": [
    {
     "name": "stdout",
     "output_type": "stream",
     "text": [
      "[[[[-1.5491933  -1.1618949  -0.77459663]\n",
      "   [-0.38729835  0.          0.38729835]\n",
      "   [ 0.7745966   1.1618949   1.5491933 ]]]]\n"
     ]
    }
   ],
   "source": [
    "with tf.Session() as sess:\n",
    "    print(sess.run(outputs))"
   ]
  },
  {
   "cell_type": "code",
   "execution_count": 89,
   "metadata": {},
   "outputs": [],
   "source": [
    "v3 = tf.range(49.0)"
   ]
  },
  {
   "cell_type": "code",
   "execution_count": 90,
   "metadata": {},
   "outputs": [],
   "source": [
    "v2=tf.reshape(v3, [1,7,7,1], name=None)"
   ]
  },
  {
   "cell_type": "code",
   "execution_count": 91,
   "metadata": {},
   "outputs": [],
   "source": [
    "max_logits = tf.nn.max_pool(v2, [1,3,3, 1],\n",
    "                            strides=[1,1,1,1], padding='SAME')"
   ]
  },
  {
   "cell_type": "code",
   "execution_count": 92,
   "metadata": {},
   "outputs": [],
   "source": [
    "sum_filter = tf.constant(np.ones((3,3,1,1)), dtype=tf.float32) "
   ]
  },
  {
   "cell_type": "code",
   "execution_count": 98,
   "metadata": {},
   "outputs": [],
   "source": [
    "ex = tf.exp(1.0 * (v2 - max_logits))"
   ]
  },
  {
   "cell_type": "code",
   "execution_count": 99,
   "metadata": {},
   "outputs": [],
   "source": [
    "sum_ex = tf.nn.conv2d(ex, sum_filter, [1,1,1,1], padding='SAME')"
   ]
  },
  {
   "cell_type": "code",
   "execution_count": 100,
   "metadata": {},
   "outputs": [],
   "source": [
    "probs = ex / (sum_ex + 1e-6)"
   ]
  },
  {
   "cell_type": "code",
   "execution_count": 97,
   "metadata": {},
   "outputs": [
    {
     "data": {
      "text/plain": [
       "TensorShape([Dimension(1), Dimension(7), Dimension(7), Dimension(1)])"
      ]
     },
     "execution_count": 97,
     "metadata": {},
     "output_type": "execute_result"
    }
   ],
   "source": [
    "probs.shape"
   ]
  },
  {
   "cell_type": "code",
   "execution_count": null,
   "metadata": {},
   "outputs": [],
   "source": []
  },
  {
   "cell_type": "code",
   "execution_count": 2,
   "metadata": {},
   "outputs": [],
   "source": [
    "v3 = tf.random_normal([1,5,5,4])"
   ]
  },
  {
   "cell_type": "code",
   "execution_count": 17,
   "metadata": {
    "scrolled": false
   },
   "outputs": [
    {
     "name": "stdout",
     "output_type": "stream",
     "text": [
      "[[[[ 5.15463948e-01  8.12715709e-01 -1.08215094e+00 -5.76252759e-01]\n",
      "   [ 1.64377853e-01 -5.87183416e-01  1.02522063e+00  7.84613132e-01]\n",
      "   [-2.88321018e-01  1.42790473e+00  1.38810366e-01 -9.46847856e-01]\n",
      "   [ 1.14833214e-03  5.22002935e-01  9.89991248e-01 -1.40329599e+00]\n",
      "   [ 1.20130193e+00 -4.97094899e-01  4.80218351e-01 -2.69882262e-01]]\n",
      "\n",
      "  [[-7.93776095e-01 -1.59973323e-01  2.33611777e-01 -6.61183059e-01]\n",
      "   [ 1.19002640e+00 -3.10837656e-01  1.82976827e-01  1.31901562e+00]\n",
      "   [ 2.55601978e+00 -7.50175416e-01 -1.82807684e-01 -8.43694329e-01]\n",
      "   [ 2.08337024e-01  4.94996041e-01  8.03352118e-01  5.92508495e-01]\n",
      "   [ 1.78566724e-01 -4.44218904e-01  1.09869003e+00  4.43810374e-01]]\n",
      "\n",
      "  [[ 4.50479053e-02 -2.87438107e+00 -8.30879033e-01  5.84780335e-01]\n",
      "   [-2.14465880e+00 -1.88565838e+00  4.02921021e-01 -9.20792043e-01]\n",
      "   [ 1.38170373e+00  9.58586872e-01  2.90134490e-01 -4.69945997e-01]\n",
      "   [ 1.45596778e+00  7.10478127e-01 -3.93508911e-01 -1.03205360e-01]\n",
      "   [ 6.87010050e-01  2.25444293e+00  3.74049872e-01  2.40052305e-02]]\n",
      "\n",
      "  [[-9.72265750e-02 -2.32890189e-01 -1.22321939e+00  1.46005058e+00]\n",
      "   [ 4.61164564e-01  8.14739347e-01  7.70740688e-01  5.53928494e-01]\n",
      "   [ 1.15068424e+00 -3.24987411e-01 -3.63797724e-01  2.41071746e-01]\n",
      "   [-2.68709719e-01  2.32405677e-01 -1.13331783e+00 -5.31454682e-01]\n",
      "   [ 7.50006676e-01  3.26908886e-01 -4.67843264e-01  8.74666646e-02]]\n",
      "\n",
      "  [[ 1.65792778e-01 -1.04784167e+00  5.54826081e-01 -2.30559897e+00]\n",
      "   [ 2.93895215e-01 -2.35102862e-01 -1.29103589e+00  1.25527930e+00]\n",
      "   [-8.13233435e-01 -1.01154482e+00  6.81287050e-01  1.47382438e-01]\n",
      "   [ 3.29520464e+00 -2.27122977e-01 -2.72393197e-01  1.08514294e-01]\n",
      "   [-1.03223073e+00 -9.88686979e-01 -4.05306607e-01 -1.35384560e+00]]]]\n"
     ]
    }
   ],
   "source": [
    "with tf.Session() as sess:\n",
    "    print(sess.run(v3))\n",
    "#     print(sess.run(output))"
   ]
  },
  {
   "cell_type": "code",
   "execution_count": 3,
   "metadata": {},
   "outputs": [],
   "source": [
    "hk=1\n",
    "works_pad = tf.pad(v3, [[0,0], [2*hk,2*hk], [2*hk,2*hk], [0,0]], mode='CONSTANT')"
   ]
  },
  {
   "cell_type": "code",
   "execution_count": 4,
   "metadata": {},
   "outputs": [],
   "source": [
    "height=5\n",
    "width=5\n",
    "ksize=3\n",
    "hk=1\n",
    "\n",
    "map_augs = []\n",
    "for i in range(ksize):\n",
    "    for j in range(ksize):\n",
    "        curr_in = tf.slice(works_pad, [0, i, j, 0], [-1, height+2*hk, width+2*hk, -1])\n",
    "        map_augs.append(curr_in)"
   ]
  },
  {
   "cell_type": "code",
   "execution_count": 13,
   "metadata": {},
   "outputs": [
    {
     "data": {
      "text/plain": [
       "[<tf.Tensor 'Slice:0' shape=(1, 7, 7, 4) dtype=float32>,\n",
       " <tf.Tensor 'Slice_1:0' shape=(1, 7, 7, 4) dtype=float32>,\n",
       " <tf.Tensor 'Slice_2:0' shape=(1, 7, 7, 4) dtype=float32>,\n",
       " <tf.Tensor 'Slice_3:0' shape=(1, 7, 7, 4) dtype=float32>,\n",
       " <tf.Tensor 'Slice_4:0' shape=(1, 7, 7, 4) dtype=float32>,\n",
       " <tf.Tensor 'Slice_5:0' shape=(1, 7, 7, 4) dtype=float32>,\n",
       " <tf.Tensor 'Slice_6:0' shape=(1, 7, 7, 4) dtype=float32>,\n",
       " <tf.Tensor 'Slice_7:0' shape=(1, 7, 7, 4) dtype=float32>,\n",
       " <tf.Tensor 'Slice_8:0' shape=(1, 7, 7, 4) dtype=float32>]"
      ]
     },
     "execution_count": 13,
     "metadata": {},
     "output_type": "execute_result"
    }
   ],
   "source": [
    "map_augs\n",
    "\n",
    "# with tf.Session() as sess:\n",
    "#     print(sess.run(map_augs[5]))\n",
    "# num_map//2"
   ]
  },
  {
   "cell_type": "code",
   "execution_count": 8,
   "metadata": {},
   "outputs": [
    {
     "name": "stdout",
     "output_type": "stream",
     "text": [
      "[[[[ True False False False]\n",
      "   [False False False  True]\n",
      "   [False  True  True False]\n",
      "   [False False False False]\n",
      "   [ True  True False False]]\n",
      "\n",
      "  [[False  True False False]\n",
      "   [False False False False]\n",
      "   [False False False False]\n",
      "   [False False False  True]\n",
      "   [False False False False]]\n",
      "\n",
      "  [[False False False False]\n",
      "   [False False  True False]\n",
      "   [False False False False]\n",
      "   [ True False False False]\n",
      "   [False False False False]]\n",
      "\n",
      "  [[False False False False]\n",
      "   [False  True False False]\n",
      "   [False False False False]\n",
      "   [False False False False]\n",
      "   [False False  True  True]]\n",
      "\n",
      "  [[False False  True  True]\n",
      "   [ True False False False]\n",
      "   [False False False  True]\n",
      "   [False False False False]\n",
      "   [False False False False]]]]\n"
     ]
    }
   ],
   "source": [
    "num_map = len(map_augs) # ksize*ksize\n",
    "center_map = map_augs[num_map//2]\n",
    "peak_mask = tf.greater(center_map, map_augs[0])\n",
    "for n in range(1, num_map):\n",
    "    if n == num_map // 2:\n",
    "        continue\n",
    "    peak_mask = tf.logical_and(peak_mask, tf.greater(center_map, map_augs[n]))\n",
    "peak_mask = tf.slice(peak_mask, [0,hk,hk,0],[-1,height,width,-1])\n",
    "\n",
    "\n",
    "\n",
    "\n",
    "with tf.Session() as sess:\n",
    "    print(sess.run(peak_mask))"
   ]
  },
  {
   "cell_type": "code",
   "execution_count": null,
   "metadata": {},
   "outputs": [],
   "source": []
  }
 ],
 "metadata": {
  "kernelspec": {
   "display_name": "Python 3",
   "language": "python",
   "name": "python3"
  },
  "language_info": {
   "codemirror_mode": {
    "name": "ipython",
    "version": 3
   },
   "file_extension": ".py",
   "mimetype": "text/x-python",
   "name": "python",
   "nbconvert_exporter": "python",
   "pygments_lexer": "ipython3",
   "version": "3.7.1"
  }
 },
 "nbformat": 4,
 "nbformat_minor": 2
}
